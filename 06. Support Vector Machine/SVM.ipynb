{
  "nbformat": 4,
  "nbformat_minor": 0,
  "metadata": {
    "colab": {
      "name": "SVM.ipynb",
      "provenance": [],
      "collapsed_sections": [],
      "include_colab_link": true
    },
    "kernelspec": {
      "name": "python3",
      "display_name": "Python 3"
    },
    "language_info": {
      "name": "python"
    }
  },
  "cells": [
    {
      "cell_type": "markdown",
      "metadata": {
        "id": "view-in-github",
        "colab_type": "text"
      },
      "source": [
        "<a href=\"https://colab.research.google.com/github/scsanjay/ml_from_scratch/blob/main/06.%20Support%20Vector%20Machine/SVM.ipynb\" target=\"_parent\"><img src=\"https://colab.research.google.com/assets/colab-badge.svg\" alt=\"Open In Colab\"/></a>"
      ]
    },
    {
      "cell_type": "code",
      "metadata": {
        "id": "41LvMtyCybtp"
      },
      "source": [
        "import numpy as np\n",
        "from sklearn.model_selection import train_test_split\n",
        "from sklearn.datasets import *\n",
        "from sklearn.metrics import accuracy_score, confusion_matrix, fbeta_score\n",
        "from sklearn.preprocessing import StandardScaler\n",
        "import seaborn as sns"
      ],
      "execution_count": 19,
      "outputs": []
    },
    {
      "cell_type": "markdown",
      "metadata": {
        "id": "KTZGoImcL2aW"
      },
      "source": [
        "## Custom implementation of Support Vector Machine (Support Vector Classifier)"
      ]
    },
    {
      "cell_type": "markdown",
      "metadata": {
        "id": "VrMv3TqNKUOt"
      },
      "source": [
        "**You can check the loss function and it's gradient calculation - https://i.imgur.com/sTP2mdo.jpg**"
      ]
    },
    {
      "cell_type": "code",
      "metadata": {
        "id": "87zkGjXjDCtZ"
      },
      "source": [
        "class SVM():\n",
        "  \"\"\"\n",
        "  SGD implementation of Support Vector Machine\n",
        "\n",
        "  Parameters\n",
        "  ----------\n",
        "  C : float, default = 1\n",
        "    Regularization parameter\n",
        "  \n",
        "  alpha : float, default = 0.0001\n",
        "    Learning rate\n",
        "\n",
        "  epoch : int, default = 1000\n",
        "\n",
        "  Attributes\n",
        "  ----------\n",
        "  weights : array of size n_features\n",
        "  \"\"\"\n",
        "\n",
        "  def __init__ (self, C=1, alpha=0.0001, epoch=1000):\n",
        "    self.C = C\n",
        "    self.alpha = alpha\n",
        "    self.epoch = epoch\n",
        "\n",
        "  def _get_hinge(self, x, y, w):\n",
        "    \"\"\" Get Hinge Loss \"\"\"\n",
        "    return np.maximum(0, 1-y*np.dot(w,x))\n",
        "\n",
        "  def fit(self, X_train, y_train):\n",
        "    \"\"\"\n",
        "    It will find the margin maximising hyperplane that best separate the data.\n",
        "\n",
        "    Parameters\n",
        "    ----------\n",
        "    X_train : array of shape (n_samples, n_features)\n",
        "\n",
        "    Y_train : array of shape (n_samples)\n",
        "\n",
        "    Returns\n",
        "    -------\n",
        "    self : object\n",
        "    \"\"\"\n",
        "    # λ=1/C\n",
        "    lambda_ = 1/self.C\n",
        "\n",
        "    # initialize weights and bias to 0s\n",
        "    w = np.zeros(len(X_train[0]))\n",
        "\n",
        "    n = len(y_train)\n",
        "\n",
        "    # epoch iterations\n",
        "    for j in range(self.epoch):\n",
        "      \n",
        "      # loop over all training data\n",
        "      for i in range(n):\n",
        "        x = X_train[i]\n",
        "        y = y_train[i]\n",
        "\n",
        "        # weight and bias gradient\n",
        "        if (self._get_hinge(x, y, w)==0):\n",
        "            dw = 2*lambda_*w\n",
        "        else:\n",
        "            # since it is sgd 1/n is not required\n",
        "            dw = 2*lambda_*w - y * x\n",
        "\n",
        "        # update weights and bias based on gradient and learning rate\n",
        "        learning_rate = self.alpha\n",
        "        w = w-learning_rate*dw\n",
        "    \n",
        "    # set weights and bias attributes\n",
        "    self.weights = w\n",
        "    return self\n",
        "\n",
        "  def predict (self, X_test):\n",
        "    \"\"\"\n",
        "    It will predict the output classes for the test data.\n",
        "\n",
        "    Parameters\n",
        "    ----------\n",
        "    X_test : array of shape (n_samples, n_features)\n",
        "\n",
        "    Returns\n",
        "    -------\n",
        "    predictions : array of shape (n_samples,)\n",
        "    \"\"\"\n",
        "    # calculate predictions\n",
        "    predictions = np.sign(np.dot(self.weights, X_test.T)) \n",
        "\n",
        "    return predictions\n"
      ],
      "execution_count": 20,
      "outputs": []
    },
    {
      "cell_type": "markdown",
      "metadata": {
        "id": "TFhZHjeMaDmo"
      },
      "source": [
        "## Validating the implementation"
      ]
    },
    {
      "cell_type": "code",
      "metadata": {
        "id": "x9KAF6WVB1yB"
      },
      "source": [
        "# load and split the breast cancer data\n",
        "data = load_breast_cancer()\n",
        "independent_variables = data.data\n",
        "dependent_variable = data.target\n",
        "# y should be {-1,1}\n",
        "dependent_variable[dependent_variable==0] = -1\n",
        "\n",
        "X_train, X_test, y_train, y_test = train_test_split(independent_variables, dependent_variable, train_size=.8)\n",
        "\n",
        "# standardize the data\n",
        "scaler = StandardScaler()\n",
        "scaler.fit(X_train)\n",
        "X_train = scaler.transform(X_train)\n",
        "X_test = scaler.transform(X_test)\n",
        "\n",
        "# x = <x,1> concate 1 to accomodate w0 in w\n",
        "X_train = np.hstack((X_train, np.ones((len(y_train),1))))\n",
        "X_test = np.hstack((X_test, np.ones((len(y_test),1))))"
      ],
      "execution_count": 21,
      "outputs": []
    },
    {
      "cell_type": "code",
      "metadata": {
        "id": "5ZYN4LCp2g6g"
      },
      "source": [
        "# tune the model\n",
        "model = SVM(C=1, alpha=0.0001, epoch=1000)\n",
        "# fit the model\n",
        "model.fit(X_train, y_train)\n",
        "# predict the classes\n",
        "y_pred = model.predict(X_test)"
      ],
      "execution_count": 22,
      "outputs": []
    },
    {
      "cell_type": "code",
      "metadata": {
        "id": "ayVXz2xLzG1D",
        "colab": {
          "base_uri": "https://localhost:8080/"
        },
        "outputId": "e9b903c2-958e-437f-eba1-db5b67d4b5a6"
      },
      "source": [
        "accuracy_score(y_test, y_pred)"
      ],
      "execution_count": 23,
      "outputs": [
        {
          "output_type": "execute_result",
          "data": {
            "text/plain": [
              "0.9824561403508771"
            ]
          },
          "metadata": {
            "tags": []
          },
          "execution_count": 23
        }
      ]
    },
    {
      "cell_type": "markdown",
      "metadata": {
        "id": "Es0b172ebGwt"
      },
      "source": [
        "**Accuracy 98.25% which is very good. But it's imbalanaced data, so we need to look at confusion matrix.**"
      ]
    },
    {
      "cell_type": "code",
      "metadata": {
        "colab": {
          "base_uri": "https://localhost:8080/",
          "height": 282
        },
        "id": "MnoYnKXN9Di1",
        "outputId": "649bc4a9-64f6-4514-bb54-45257b542f93"
      },
      "source": [
        "cf_matrix = confusion_matrix(y_test, y_pred)\n",
        "sns.heatmap(cf_matrix/np.sum(cf_matrix), annot=True, \n",
        "            fmt='.2%', cmap='Blues')"
      ],
      "execution_count": 24,
      "outputs": [
        {
          "output_type": "execute_result",
          "data": {
            "text/plain": [
              "<matplotlib.axes._subplots.AxesSubplot at 0x7fc1666b68d0>"
            ]
          },
          "metadata": {
            "tags": []
          },
          "execution_count": 24
        },
        {
          "output_type": "display_data",
          "data": {
            "image/png": "[encoded data removed]",
            "text/plain": [
              "<Figure size 432x288 with 2 Axes>"
            ]
          },
          "metadata": {
            "tags": [],
            "needs_background": "light"
          }
        }
      ]
    },
    {
      "cell_type": "markdown",
      "metadata": {
        "id": "OAyD699m9yNF"
      },
      "source": [
        "**Confusion matrix also looks very good, both classes are well classified.**"
      ]
    }
  ]
}
