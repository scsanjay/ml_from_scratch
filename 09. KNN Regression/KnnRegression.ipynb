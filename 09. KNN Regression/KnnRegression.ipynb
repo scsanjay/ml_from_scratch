{
  "nbformat": 4,
  "nbformat_minor": 0,
  "metadata": {
    "colab": {
      "name": "KnnRegression.ipynb",
      "provenance": [],
      "collapsed_sections": [],
      "authorship_tag": "ABX9TyPvi8mZMB6myF+XrgRlMGSO",
      "include_colab_link": true
    },
    "kernelspec": {
      "name": "python3",
      "display_name": "Python 3"
    },
    "language_info": {
      "name": "python"
    }
  },
  "cells": [
    {
      "cell_type": "markdown",
      "metadata": {
        "id": "view-in-github",
        "colab_type": "text"
      },
      "source": [
        "<a href=\"https://colab.research.google.com/github/scsanjay/ml_from_scratch/blob/main/09.%20KNN%20Regression/KnnRegression.ipynb\" target=\"_parent\"><img src=\"https://colab.research.google.com/assets/colab-badge.svg\" alt=\"Open In Colab\"/></a>"
      ]
    },
    {
      "cell_type": "markdown",
      "metadata": {
        "id": "kd7KTuj57Zde"
      },
      "source": [
        "##Implementation of KNN Regression"
      ]
    },
    {
      "cell_type": "code",
      "metadata": {
        "id": "uiyhaXDMDVWB"
      },
      "source": [
        "import numpy as np"
      ],
      "execution_count": null,
      "outputs": []
    },
    {
      "cell_type": "code",
      "metadata": {
        "id": "Lvmj7PxgDZ7W"
      },
      "source": [
        "class KnnRegression:\n",
        "  \"\"\"\n",
        "  k-nearest neighbors regression looks at it's neighbors to predict \n",
        "  output for a query point.\n",
        "\n",
        "  Parameters\n",
        "  ----------\n",
        "  n_neighbors : int, default=5\n",
        "      Number of nearest neighbors to look at for predicting.\n",
        "  \n",
        "  weights : {'uniform', 'distance'}, default='uniform'\n",
        "      uniform gives equal importance to each neighbors.\n",
        "      distance gives more importance to closer neighbor, importance = 1/distance.\n",
        "  \n",
        "  p : int, default=2\n",
        "      It is parameter for the minkowski distance (lp distance). It is used only\n",
        "      when metric=minkowski.\n",
        "\n",
        "  metric : {'minkowski', 'manhattan', 'euclidean'}, default='minkowski'\n",
        "      The distance metric used to check for neighbors. The default is minkowski\n",
        "      with p=2 which is equivalent to euclidean.\n",
        "\n",
        "  Attributes\n",
        "  ----------\n",
        "  n_samples_fit_ : int\n",
        "      It gives number of train data fitted.\n",
        "  \"\"\"\n",
        "\n",
        "  def __init__(self, n_neighbors=5, weights='uniform', p=2, metric='minkowski'):\n",
        "    self.n_neighbors = n_neighbors\n",
        "    self.weights = weights\n",
        "    self.metric = metric\n",
        "    self.p = p\n",
        "\n",
        "  def fit(self, X, y):\n",
        "    \"\"\"\n",
        "    Fit the training data to the model.\n",
        "\n",
        "    Parameters\n",
        "    ----------\n",
        "    X : array-like of shape (n_samples, n_features)\n",
        "        The training data.\n",
        "\n",
        "    y : array-like of shape (n_samples,)\n",
        "        The target outputs.\n",
        "\n",
        "    Returns\n",
        "    -------\n",
        "    self\n",
        "    \"\"\"\n",
        "\n",
        "    # save train data\n",
        "    self.X_train = np.array(X)\n",
        "    self.y_train = np.array(y)\n",
        "    # set no. of train data\n",
        "    self.n_samples_fit_ = len(self.X_train)\n",
        "    return self\n",
        "\n",
        "  def predict(self, X):\n",
        "    \"\"\"\n",
        "    Predict the outputs of test data.\n",
        "\n",
        "    Parameters\n",
        "    ----------\n",
        "    X : array-like of shape (n_queries, n_features)\n",
        "        The testing data.\n",
        "\n",
        "    Returns\n",
        "    -------\n",
        "    y : array-like of shape (n_queries,)\n",
        "        The target outputs of test data.\n",
        "    \"\"\"\n",
        "\n",
        "    X_test = np.array(X)\n",
        "    y_pred = []\n",
        "    # loop over each test data\n",
        "    for test_data in X_test:\n",
        "      # calculate distances between test data and all the train data\n",
        "      distances = self._getDistances(test_data)\n",
        "      # get k sorted indices based on distance\n",
        "      distance_indices = np.argsort(distances)[:self.n_neighbors]\n",
        "      # get output based on weight and distance\n",
        "      if self.weights == 'uniform':\n",
        "        # get outputs of k nearest points\n",
        "        outputs = self.y_train[distance_indices]\n",
        "        # calculate mean\n",
        "        output = np.mean(outputs)\n",
        "      else:\n",
        "        # calculate weights for each outputs\n",
        "        output_weight = 0\n",
        "        total_weight = 0\n",
        "        for distance_index in distance_indices:\n",
        "          distance = distances[distance_index]\n",
        "          weight = 1/distance\n",
        "          total_weight += weight\n",
        "          output = self.y_train[distance_index]\n",
        "          output_weight += weight*output\n",
        "\n",
        "        output = output_weight/total_weight\n",
        "      #save the output\n",
        "      y_pred.append(output)\n",
        "    # return predicted outputs\n",
        "    return np.array(y_pred)\n",
        "  \n",
        "  def kneighbors(self, X):\n",
        "    \"\"\"\n",
        "    Return the distances and the k nearest neighbors indices.\n",
        "\n",
        "    Parameters\n",
        "    ----------\n",
        "    X : array-like of shape (n_queries, n_features)\n",
        "        The testing data.\n",
        "\n",
        "    Returns\n",
        "    -------\n",
        "    (distance, neighbors) : tuple of array-like of shape (n_queries, k) each\n",
        "        distance is the distance of each point from the query points.\n",
        "        neighbors is represents the indices of neighbors in train data.\n",
        "    \"\"\"\n",
        "\n",
        "    X_test = np.array(X)\n",
        "    neighbor_indices = []\n",
        "    neighbor_distances = []\n",
        "    # loop over each test data\n",
        "    for test_data in X_test:\n",
        "      # calculate distances between test data and all the train data\n",
        "      distances = self._getDistances(test_data)\n",
        "      # get k sorted indices based on distance\n",
        "      distance_indices = np.argsort(distances)[:self.n_neighbors]\n",
        "      # append indices of the neighbors\n",
        "      neighbor_indices.append(distance_indices)\n",
        "      # append distance of the neighbors\n",
        "      neighbor_distances.append(distances[distance_indices])\n",
        "    # return (distance, neighbors)\n",
        "    return (np.array(neighbor_distances), np.array(neighbor_indices))\n",
        "\n",
        "  def _getDistances(self, test_data):\n",
        "    if self.metric == 'euclidean':\n",
        "      p = 2\n",
        "    elif self.metric == 'manhattan':\n",
        "      p = 1\n",
        "    else:\n",
        "      p = self.p\n",
        "    # implement the distance calculation\n",
        "    distances = np.power(np.sum(np.power(np.abs(test_data-self.X_train), p), axis=1), 1/p)\n",
        "    return distances\n",
        "  "
      ],
      "execution_count": null,
      "outputs": []
    },
    {
      "cell_type": "markdown",
      "metadata": {
        "id": "ecv8Jat3wku7"
      },
      "source": [
        "##Testing the validity of implementation by comparing with **sklearn.neighbors.KNeighborsClassifier**"
      ]
    },
    {
      "cell_type": "code",
      "metadata": {
        "id": "RS72_d0y_uXs"
      },
      "source": [
        "from sklearn.datasets import load_boston\n",
        "from sklearn.model_selection import train_test_split\n",
        "from sklearn.preprocessing import StandardScaler\n",
        "\n",
        "iris = load_boston()\n",
        "X_train, X_test, y_train, y_test = train_test_split(iris.data, iris.target, train_size=.8)\n",
        "\n",
        "stnd = StandardScaler()\n",
        "stnd.fit(X_train)\n",
        "X_train = stnd.transform(X_train)\n",
        "X_test = stnd.transform(X_test)"
      ],
      "execution_count": null,
      "outputs": []
    },
    {
      "cell_type": "code",
      "metadata": {
        "colab": {
          "base_uri": "https://localhost:8080/"
        },
        "id": "56R95IvP6EJL",
        "outputId": "ddfd6570-4abe-4899-f18b-aa37e640250f"
      },
      "source": [
        "model = KnnRegression(n_neighbors=5, weights='distance', metric='manhattan')\n",
        "model.fit(X_train, y_train)"
      ],
      "execution_count": null,
      "outputs": [
        {
          "output_type": "execute_result",
          "data": {
            "text/plain": [
              "<__main__.KnnRegression at 0x7fd836a9b990>"
            ]
          },
          "metadata": {
            "tags": []
          },
          "execution_count": 153
        }
      ]
    },
    {
      "cell_type": "code",
      "metadata": {
        "id": "QoLa0dLnxDpL"
      },
      "source": [
        "y_pred = model.predict(X_test)"
      ],
      "execution_count": null,
      "outputs": []
    },
    {
      "cell_type": "code",
      "metadata": {
        "id": "5hNLi7uZ_y4k"
      },
      "source": [
        "from sklearn.metrics import r2_score\n",
        "import seaborn as sns"
      ],
      "execution_count": null,
      "outputs": []
    },
    {
      "cell_type": "code",
      "metadata": {
        "colab": {
          "base_uri": "https://localhost:8080/"
        },
        "id": "p8IoeoCuMRq5",
        "outputId": "dd828feb-dd54-407d-f154-9cd222a37aa3"
      },
      "source": [
        "r2_score(y_test, y_pred)"
      ],
      "execution_count": null,
      "outputs": [
        {
          "output_type": "execute_result",
          "data": {
            "text/plain": [
              "0.8494639568336997"
            ]
          },
          "metadata": {
            "tags": []
          },
          "execution_count": 156
        }
      ]
    },
    {
      "cell_type": "code",
      "metadata": {
        "colab": {
          "base_uri": "https://localhost:8080/",
          "height": 282
        },
        "id": "mu_JKqAVzGzg",
        "outputId": "2d37438e-9876-4c61-e061-d508179b03cb"
      },
      "source": [
        "sns.kdeplot(y_test - y_pred)"
      ],
      "execution_count": null,
      "outputs": [
        {
          "output_type": "execute_result",
          "data": {
            "text/plain": [
              "<matplotlib.axes._subplots.AxesSubplot at 0x7fd8371343d0>"
            ]
          },
          "metadata": {
            "tags": []
          },
          "execution_count": 157
        },
        {
          "output_type": "display_data",
          "data": {
            "image/png": "[encoded data removed]",
            "text/plain": [
              "<Figure size 432x288 with 1 Axes>"
            ]
          },
          "metadata": {
            "tags": [],
            "needs_background": "light"
          }
        }
      ]
    },
    {
      "cell_type": "markdown",
      "metadata": {
        "id": "DNavwF4_1sWU"
      },
      "source": [
        "**R2 score is close to 1 so that's good. Distribution of errors is gaussian distributed with mean 0 so that's good too.**"
      ]
    }
  ]
}