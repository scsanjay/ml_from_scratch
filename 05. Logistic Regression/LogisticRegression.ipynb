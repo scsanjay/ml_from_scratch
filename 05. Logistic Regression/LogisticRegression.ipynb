{
  "nbformat": 4,
  "nbformat_minor": 0,
  "metadata": {
    "colab": {
      "name": "LogisticRegression.ipynb",
      "provenance": [],
      "collapsed_sections": [],
      "include_colab_link": true
    },
    "kernelspec": {
      "name": "python3",
      "display_name": "Python 3"
    },
    "language_info": {
      "name": "python"
    }
  },
  "cells": [
    {
      "cell_type": "markdown",
      "metadata": {
        "id": "view-in-github",
        "colab_type": "text"
      },
      "source": [
        "<a href=\"https://colab.research.google.com/github/scsanjay/ml_from_scratch/blob/main/05.%20Logistic%20Regression/LogisticRegression.ipynb\" target=\"_parent\"><img src=\"https://colab.research.google.com/assets/colab-badge.svg\" alt=\"Open In Colab\"/></a>"
      ]
    },
    {
      "cell_type": "code",
      "metadata": {
        "id": "41LvMtyCybtp"
      },
      "source": [
        "import numpy as np\n",
        "from sklearn.model_selection import train_test_split\n",
        "from sklearn.datasets import *\n",
        "from sklearn.metrics import accuracy_score, confusion_matrix, fbeta_score\n",
        "import seaborn as sns"
      ],
      "execution_count": 14,
      "outputs": []
    },
    {
      "cell_type": "markdown",
      "metadata": {
        "id": "KTZGoImcL2aW"
      },
      "source": [
        "## Custom implementation of Logistic Regression with L1 regularisation"
      ]
    },
    {
      "cell_type": "code",
      "metadata": {
        "id": "87zkGjXjDCtZ"
      },
      "source": [
        "class LogisticRegression():\n",
        "  \"\"\"\n",
        "  SGD implementation of Logistic Regression with l1 regulariser.\n",
        "\n",
        "  Parameters\n",
        "  ----------\n",
        "  alpha : float, default = 0.0001\n",
        "    multiplier for the regularisation term\n",
        "  \n",
        "  eta0 : float, default = 0.0\n",
        "    initial learning rate\n",
        "\n",
        "  epoch : int, default = 1000\n",
        "\n",
        "  Attributes\n",
        "  ----------\n",
        "  weights : array of size n_features\n",
        "\n",
        "  bias : float\n",
        "  \"\"\"\n",
        "\n",
        "  def __init__ (self, alpha=0.0001, eta0=0.0, epoch=1000):\n",
        "    self.alpha = alpha\n",
        "    self.eta0 = eta0\n",
        "    self.epoch = epoch\n",
        "\n",
        "  def _get_sigmoid(self, x):\n",
        "    \"\"\" Calculate sigmoid function \"\"\"\n",
        "    if np.all(x>=0):\n",
        "        return 1.0 / (1 + np.exp(-x))\n",
        "    else:\n",
        "        return np.exp(x)/(1+np.exp(x))\n",
        "\n",
        "  def fit(self, X_train, y_train):\n",
        "    \"\"\"\n",
        "    It will find a hyperplane that best separate the data.\n",
        "\n",
        "    Parameters\n",
        "    ----------\n",
        "    X_train : array of shape (n_samples, n_features)\n",
        "\n",
        "    Y_train : array of shape (n_samples)\n",
        "\n",
        "    Returns\n",
        "    -------\n",
        "    self : object\n",
        "    \"\"\"\n",
        "\n",
        "    # initialize weights and bias to 0s\n",
        "    w = np.zeros(len(X_train[0]))\n",
        "    b = 0\n",
        "\n",
        "    n = len(y_train)\n",
        "\n",
        "    # epoch iterations\n",
        "    for j in range(self.epoch):\n",
        "      \n",
        "      # loop over all training data\n",
        "      for i in range(n):\n",
        "        x = X_train[i]\n",
        "        y = y_train[i]\n",
        "\n",
        "        # weight gradient\n",
        "        dw = (self._get_sigmoid(np.dot(w,x)+b)-y)*x + (self.alpha/n)*((w+10**-5)/np.dot(w+10**-5, w+10**-5))\n",
        "\n",
        "        # bias gradient\n",
        "        db = self._get_sigmoid(np.dot(w,x)+b) - y\n",
        "\n",
        "        # update weights and bias based on gradient and learning rate\n",
        "        w = w-self.eta0*dw\n",
        "        b = b-self.eta0*db\n",
        "    \n",
        "    # set weights and bias attributes\n",
        "    self.weights = w\n",
        "    self.bias = b\n",
        "    return self\n",
        "\n",
        "  def predict (self, X_test):\n",
        "    \"\"\"\n",
        "    It will predict the output classes for the test data.\n",
        "\n",
        "    Parameters\n",
        "    ----------\n",
        "    X_test : array of shape (n_samples, n_features)\n",
        "\n",
        "    Returns\n",
        "    -------\n",
        "    predicted : array of shape (n_samples,)\n",
        "    \"\"\"\n",
        "    # calculate predictions\n",
        "    predictions = np.dot(self.weights, X_test.T)+self.bias\n",
        "\n",
        "    # output 0 or 1\n",
        "    predictions = np.array(predictions>=0, dtype=np.int16)\n",
        "    return predictions\n"
      ],
      "execution_count": 3,
      "outputs": []
    },
    {
      "cell_type": "markdown",
      "metadata": {
        "id": "TFhZHjeMaDmo"
      },
      "source": [
        "## Validating the implementation"
      ]
    },
    {
      "cell_type": "code",
      "metadata": {
        "id": "x9KAF6WVB1yB"
      },
      "source": [
        "# load and split the breast cancer data\n",
        "data = load_breast_cancer()\n",
        "X_train, X_test, y_train, y_test = train_test_split(data.data, data.target, train_size=.8)"
      ],
      "execution_count": 4,
      "outputs": []
    },
    {
      "cell_type": "code",
      "metadata": {
        "id": "5ZYN4LCp2g6g"
      },
      "source": [
        "# tune the model\n",
        "model = LogisticRegression(alpha=0.0001, eta0=0.0001, epoch = 1100)\n",
        "# fit the model\n",
        "model.fit(X_train, y_train)\n",
        "# predict the classes\n",
        "y_pred = model.predict(X_test)"
      ],
      "execution_count": 5,
      "outputs": []
    },
    {
      "cell_type": "code",
      "metadata": {
        "id": "ayVXz2xLzG1D",
        "colab": {
          "base_uri": "https://localhost:8080/"
        },
        "outputId": "817e680d-831d-4b56-efff-e0695ed58817"
      },
      "source": [
        "accuracy_score(y_test, y_pred)"
      ],
      "execution_count": 6,
      "outputs": [
        {
          "output_type": "execute_result",
          "data": {
            "text/plain": [
              "0.9473684210526315"
            ]
          },
          "metadata": {
            "tags": []
          },
          "execution_count": 6
        }
      ]
    },
    {
      "cell_type": "markdown",
      "metadata": {
        "id": "Es0b172ebGwt"
      },
      "source": [
        "**Accuracy 94% which is good enough. But it's imbalanaced data, so we need to look at confusion matrix.**"
      ]
    },
    {
      "cell_type": "code",
      "metadata": {
        "colab": {
          "base_uri": "https://localhost:8080/",
          "height": 282
        },
        "id": "MnoYnKXN9Di1",
        "outputId": "6befa83e-e823-4588-d0ac-09341a072bf9"
      },
      "source": [
        "cf_matrix = confusion_matrix(y_test, y_pred)\n",
        "sns.heatmap(cf_matrix/np.sum(cf_matrix), annot=True, \n",
        "            fmt='.2%', cmap='Blues')"
      ],
      "execution_count": 9,
      "outputs": [
        {
          "output_type": "execute_result",
          "data": {
            "text/plain": [
              "<matplotlib.axes._subplots.AxesSubplot at 0x7faf5e137690>"
            ]
          },
          "metadata": {
            "tags": []
          },
          "execution_count": 9
        },
        {
          "output_type": "display_data",
          "data": {
            "image/png": "[encoded data removed]",
            "text/plain": [
              "<Figure size 432x288 with 2 Axes>"
            ]
          },
          "metadata": {
            "tags": [],
            "needs_background": "light"
          }
        }
      ]
    },
    {
      "cell_type": "markdown",
      "metadata": {
        "id": "OAyD699m9yNF"
      },
      "source": [
        "**Confusion matrix also looks good, both classes are well classified.**"
      ]
    }
  ]
}