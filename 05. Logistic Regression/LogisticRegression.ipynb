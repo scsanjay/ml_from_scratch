{
  "nbformat": 4,
  "nbformat_minor": 0,
  "metadata": {
    "colab": {
      "name": "LogisticRegression.ipynb",
      "provenance": [],
      "collapsed_sections": [],
      "include_colab_link": true
    },
    "kernelspec": {
      "name": "python3",
      "display_name": "Python 3"
    },
    "language_info": {
      "name": "python"
    }
  },
  "cells": [
    {
      "cell_type": "markdown",
      "metadata": {
        "id": "view-in-github",
        "colab_type": "text"
      },
      "source": [
        "<a href=\"https://colab.research.google.com/github/scsanjay/ml_from_scratch/blob/main/05.%20Logistic%20Regression/LogisticRegression.ipynb\" target=\"_parent\"><img src=\"https://colab.research.google.com/assets/colab-badge.svg\" alt=\"Open In Colab\"/></a>"
      ]
    },
    {
      "cell_type": "code",
      "metadata": {
        "id": "41LvMtyCybtp"
      },
      "source": [
        "import numpy as np\n",
        "from sklearn.model_selection import train_test_split\n",
        "from sklearn.datasets import *\n",
        "from sklearn.metrics import accuracy_score, confusion_matrix, fbeta_score\n",
        "import seaborn as sns\n",
        "from sklearn.preprocessing import StandardScaler"
      ],
      "execution_count": null,
      "outputs": []
    },
    {
      "cell_type": "markdown",
      "metadata": {
        "id": "KTZGoImcL2aW"
      },
      "source": [
        "## Custom implementation of Logistic Regression with L1 regularisation"
      ]
    },
    {
      "cell_type": "code",
      "metadata": {
        "id": "87zkGjXjDCtZ"
      },
      "source": [
        "class LogisticRegression():\n",
        "  \"\"\"\n",
        "  SGD implementation of Logistic Regression with l1 regulariser.\n",
        "\n",
        "  Parameters\n",
        "  ----------\n",
        "  penalty : {'l1', 'l2'}, default l2\n",
        "\n",
        "  alpha : float, default = 0.0001\n",
        "    multiplier for the regularisation term\n",
        "  \n",
        "  eta0 : float, default = 0.0\n",
        "    initial learning rate\n",
        "\n",
        "  epoch : int, default = 1000\n",
        "\n",
        "  Attributes\n",
        "  ----------\n",
        "  weights : array of size n_features\n",
        "\n",
        "  bias : float\n",
        "  \"\"\"\n",
        "\n",
        "  def __init__ (self, penalty='l2', alpha=0.0001, eta0=0.0, epoch=1000):\n",
        "    self.penalty = penalty\n",
        "    self.alpha = alpha\n",
        "    self.eta0 = eta0\n",
        "    self.epoch = epoch\n",
        "\n",
        "  def fit(self, X_train, y_train):\n",
        "    \"\"\"\n",
        "    It will find a hyperplane that best separate the data.\n",
        "\n",
        "    Parameters\n",
        "    ----------\n",
        "    X_train : array of shape (n_samples, n_features)\n",
        "\n",
        "    Y_train : array of shape (n_samples)\n",
        "\n",
        "    Returns\n",
        "    -------\n",
        "    self : object\n",
        "    \"\"\"\n",
        "\n",
        "    # initialize weights and bias\n",
        "    w = np.random.normal(size=len(X_train[0]))\n",
        "    b = 0\n",
        "\n",
        "    n = len(y_train)\n",
        "\n",
        "    # epoch iterations\n",
        "    for j in range(self.epoch):\n",
        "      \n",
        "      # loop over all training data\n",
        "      for i in range(n):\n",
        "        x = X_train[i]\n",
        "        y = y_train[i]\n",
        "\n",
        "        # weight gradient\n",
        "        dw =  (-y*x)*np.exp(-y*(np.dot(w,x)+b))/(1+np.exp(-y*(np.dot(w,x)+b)))\n",
        "        \n",
        "        # regularization term based on penalty\n",
        "        if (self.penalty=='l1'):\n",
        "          # L1 regulariser\n",
        "          dw += self.alpha*(w/np.dot(w, w))\n",
        "        else:\n",
        "          # L2 regulariser\n",
        "          dw += 2*self.alpha*w\n",
        "\n",
        "        # bias gradient\n",
        "        db =  (-y)*np.exp(-y*(np.dot(w,x)+b))/(1+np.exp(-y*(np.dot(w,x)+b))) \n",
        "\n",
        "        # update weights and bias based on gradient and learning rate\n",
        "        w = w-self.eta0*dw\n",
        "        b = b-self.eta0*db\n",
        "    \n",
        "    # set weights and bias attributes\n",
        "    self.weights = w\n",
        "    self.bias = b\n",
        "    return self\n",
        "\n",
        "  def predict (self, X_test):\n",
        "    \"\"\"\n",
        "    It will predict the output classes for the test data.\n",
        "\n",
        "    Parameters\n",
        "    ----------\n",
        "    X_test : array of shape (n_samples, n_features)\n",
        "\n",
        "    Returns\n",
        "    -------\n",
        "    predicted : array of shape (n_samples,)\n",
        "    \"\"\"\n",
        "    # calculate predictions\n",
        "    predictions = np.dot(self.weights, X_test.T)+self.bias\n",
        "\n",
        "    # output 0 or 1\n",
        "    predictions = np.array(predictions>=0, dtype=np.int16)\n",
        "    return predictions\n"
      ],
      "execution_count": null,
      "outputs": []
    },
    {
      "cell_type": "markdown",
      "metadata": {
        "id": "TFhZHjeMaDmo"
      },
      "source": [
        "## Validating the implementation"
      ]
    },
    {
      "cell_type": "code",
      "metadata": {
        "id": "x9KAF6WVB1yB"
      },
      "source": [
        "# load and split the breast cancer data\n",
        "data = load_breast_cancer()\n",
        "X_train, X_test, y_train, y_test = train_test_split(data.data, data.target, train_size=.8)\n",
        "# standardize the data\n",
        "scaler = StandardScaler()\n",
        "scaler.fit(X_train)\n",
        "X_train = scaler.transform(X_train)\n",
        "X_test = scaler.transform(X_test)"
      ],
      "execution_count": null,
      "outputs": []
    },
    {
      "cell_type": "markdown",
      "metadata": {
        "id": "tXQnHCGL3hGn"
      },
      "source": [
        "### With L2 regularizer"
      ]
    },
    {
      "cell_type": "code",
      "metadata": {
        "id": "5ZYN4LCp2g6g"
      },
      "source": [
        "# tune the model\n",
        "model = LogisticRegression(alpha=0.0001, eta0=0.0001, epoch = 1100)\n",
        "# fit the model\n",
        "model.fit(X_train, y_train)\n",
        "# predict the classes\n",
        "y_pred = model.predict(X_test)"
      ],
      "execution_count": null,
      "outputs": []
    },
    {
      "cell_type": "code",
      "metadata": {
        "id": "ayVXz2xLzG1D",
        "colab": {
          "base_uri": "https://localhost:8080/"
        },
        "outputId": "839c9655-730c-4129-e6aa-218076348812"
      },
      "source": [
        "accuracy_score(y_test, y_pred)"
      ],
      "execution_count": null,
      "outputs": [
        {
          "output_type": "execute_result",
          "data": {
            "text/plain": [
              "0.956140350877193"
            ]
          },
          "metadata": {
            "tags": []
          },
          "execution_count": 26
        }
      ]
    },
    {
      "cell_type": "markdown",
      "metadata": {
        "id": "Es0b172ebGwt"
      },
      "source": [
        "**Accuracy 95.61% which is good enough. But it's imbalanaced data, so we need to look at confusion matrix.**"
      ]
    },
    {
      "cell_type": "code",
      "metadata": {
        "colab": {
          "base_uri": "https://localhost:8080/",
          "height": 282
        },
        "id": "MnoYnKXN9Di1",
        "outputId": "d5251d31-0056-469f-e54c-d63860da6bbd"
      },
      "source": [
        "cf_matrix = confusion_matrix(y_test, y_pred)\n",
        "sns.heatmap(cf_matrix/np.sum(cf_matrix), annot=True, \n",
        "            fmt='.2%', cmap='Blues')"
      ],
      "execution_count": null,
      "outputs": [
        {
          "output_type": "execute_result",
          "data": {
            "text/plain": [
              "<matplotlib.axes._subplots.AxesSubplot at 0x7f7c319ead10>"
            ]
          },
          "metadata": {
            "tags": []
          },
          "execution_count": 27
        },
        {
          "output_type": "display_data",
          "data": {
            "image/png": "[encoded data removed]",
            "text/plain": [
              "<Figure size 432x288 with 2 Axes>"
            ]
          },
          "metadata": {
            "tags": [],
            "needs_background": "light"
          }
        }
      ]
    },
    {
      "cell_type": "markdown",
      "metadata": {
        "id": "OAyD699m9yNF"
      },
      "source": [
        "**Confusion matrix also looks good, both classes are well classified.**"
      ]
    },
    {
      "cell_type": "markdown",
      "metadata": {
        "id": "GUWkPQJZ3C8y"
      },
      "source": [
        "### Now with L1 regularizer"
      ]
    },
    {
      "cell_type": "code",
      "metadata": {
        "id": "euU2KQTZ2LvN"
      },
      "source": [
        "model2 = LogisticRegression(alpha=0.0001, eta0=0.0001, epoch = 1100, penalty='l1')\n",
        "model2.fit(X_train, y_train)\n",
        "y_pred2 = model2.predict(X_test)"
      ],
      "execution_count": null,
      "outputs": []
    },
    {
      "cell_type": "code",
      "metadata": {
        "id": "CFOtgeHR2TfL",
        "colab": {
          "base_uri": "https://localhost:8080/"
        },
        "outputId": "499b471c-25b7-45c5-dfa6-f17e93a31962"
      },
      "source": [
        "accuracy_score(y_test, y_pred2)"
      ],
      "execution_count": null,
      "outputs": [
        {
          "output_type": "execute_result",
          "data": {
            "text/plain": [
              "0.9649122807017544"
            ]
          },
          "metadata": {
            "tags": []
          },
          "execution_count": 34
        }
      ]
    },
    {
      "cell_type": "markdown",
      "metadata": {
        "id": "LdtmMVSW3mxm"
      },
      "source": [
        "**96.49% accuracy is good**"
      ]
    }
  ]
}