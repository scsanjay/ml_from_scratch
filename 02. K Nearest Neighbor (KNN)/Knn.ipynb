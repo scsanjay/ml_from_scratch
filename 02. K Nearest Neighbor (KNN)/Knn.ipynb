{
  "nbformat": 4,
  "nbformat_minor": 0,
  "metadata": {
    "colab": {
      "name": "Knn.ipynb",
      "provenance": [],
      "collapsed_sections": [],
      "authorship_tag": "ABX9TyNd+/GRxAuuFA0fsxvhaBF1",
      "include_colab_link": true
    },
    "kernelspec": {
      "name": "python3",
      "display_name": "Python 3"
    },
    "language_info": {
      "name": "python"
    }
  },
  "cells": [
    {
      "cell_type": "markdown",
      "metadata": {
        "id": "view-in-github",
        "colab_type": "text"
      },
      "source": [
        "<a href=\"https://colab.research.google.com/github/scsanjay/ml_from_scratch/blob/main/02.%20K%20Nearest%20Neighbor%20(KNN)/Knn.ipynb\" target=\"_parent\"><img src=\"https://colab.research.google.com/assets/colab-badge.svg\" alt=\"Open In Colab\"/></a>"
      ]
    },
    {
      "cell_type": "markdown",
      "metadata": {
        "id": "kd7KTuj57Zde"
      },
      "source": [
        "##Implementation of KNN"
      ]
    },
    {
      "cell_type": "code",
      "metadata": {
        "id": "uiyhaXDMDVWB"
      },
      "source": [
        "import numpy as np\n",
        "from collections import Counter"
      ],
      "execution_count": 19,
      "outputs": []
    },
    {
      "cell_type": "code",
      "metadata": {
        "id": "Lvmj7PxgDZ7W"
      },
      "source": [
        "class Knn:\n",
        "  \"\"\"\n",
        "  k-nearest neighbors aka knn is a classification technique which looks\n",
        "  at it's neighbors to predict label for a query point.\n",
        "\n",
        "  Parameters\n",
        "  ----------\n",
        "  n_neighbors : int, default=5\n",
        "      Number of nearest neighbors to look at for predicting.\n",
        "  \n",
        "  weights : {'uniform', 'distance'}, default='uniform'\n",
        "      uniform gives equal importance to each neighbors.\n",
        "      distance gives more importance to closer neighbor, importance = 1/distance.\n",
        "  \n",
        "  p : int, default=2\n",
        "      It is parameter for the minkowski distance (lp distance). It is used only\n",
        "      when metric=minkowski.\n",
        "\n",
        "  metric : {'minkowski', 'manhattan', 'euclidean'}, default='minkowski'\n",
        "      The distance metric used to check for neighbors. The default is minkowski\n",
        "      with p=2 which is equivalent to euclidean.\n",
        "\n",
        "  Attributes\n",
        "  ----------\n",
        "  classes_ : array of shape (n_classes,)\n",
        "      It returns the class labels based on fitted data.\n",
        "  \n",
        "  n_classes_ : int\n",
        "      It returns the number of distinct class labels based on fitted data.\n",
        "\n",
        "  n_samples_fit_ : int\n",
        "      It gives number of train data fitted.\n",
        "  \"\"\"\n",
        "\n",
        "  def __init__(self, n_neighbors=5, weights='uniform', p=2, metric='minkowski'):\n",
        "    self.n_neighbors = n_neighbors\n",
        "    self.weights = weights\n",
        "    self.metric = metric\n",
        "    self.p = p\n",
        "\n",
        "  def fit(self, X, y):\n",
        "    \"\"\"\n",
        "    Fit the training data to the model.\n",
        "\n",
        "    Parameters\n",
        "    ----------\n",
        "    X : array-like of shape (n_samples, n_features)\n",
        "        The training data.\n",
        "\n",
        "    y : array-like of shape (n_samples,)\n",
        "        The target labels.\n",
        "\n",
        "    Returns\n",
        "    -------\n",
        "    self\n",
        "    \"\"\"\n",
        "\n",
        "    # save train data\n",
        "    self.X_train = np.array(X)\n",
        "    self.y_train = np.array(y)\n",
        "    # set distinct class labels\n",
        "    self.classes_ = np.sort(np.unique(self.y_train))\n",
        "    # set distinct class labels count\n",
        "    self.n_classes_ = len(self.classes_)\n",
        "    # set no. of train data\n",
        "    self.n_samples_fit_ = len(self.X_train)\n",
        "    return self\n",
        "\n",
        "  def predict(self, X):\n",
        "    \"\"\"\n",
        "    Predict the labels of test data.\n",
        "\n",
        "    Parameters\n",
        "    ----------\n",
        "    X : array-like of shape (n_queries, n_features)\n",
        "        The testing data.\n",
        "\n",
        "    Returns\n",
        "    -------\n",
        "    y : array-like of shape (n_queries,)\n",
        "        The target labels of test data.\n",
        "    \"\"\"\n",
        "\n",
        "    X_test = np.array(X)\n",
        "    y_pred = []\n",
        "    # loop over each test data\n",
        "    for test_data in X_test:\n",
        "      # calculate distances between test data and all the train data\n",
        "      distances = self._getDistances(test_data)\n",
        "      # get k sorted indices based on distance\n",
        "      distance_indices = np.argsort(distances)[:self.n_neighbors]\n",
        "      # get label based on weight and distance\n",
        "      if self.weights == 'uniform':\n",
        "        # get labels of k nearest points\n",
        "        labels = self.y_train[distance_indices]\n",
        "        # perfom majority vote to get the label\n",
        "        label = Counter(labels).most_common(1)[0][0]\n",
        "      else:\n",
        "        # calculate weights for each labels\n",
        "        label_weight = dict()\n",
        "        for distance_index in distance_indices:\n",
        "          distance = distances[distance_index]\n",
        "          weight = 1/distance\n",
        "          label = self.y_train[distance_index]\n",
        "          if not label_weight.get(label):\n",
        "            label_weight[label] = weight\n",
        "          else:\n",
        "            label_weight[label] += weight\n",
        "        # get the label based on max distance\n",
        "        label = max(label_weight, key=label_weight.get)\n",
        "      #save the label\n",
        "      y_pred.append(label)\n",
        "    # return predicted labels\n",
        "    return np.array(y_pred)\n",
        "  \n",
        "  def kneighbors(self, X):\n",
        "    \"\"\"\n",
        "    Return the distances and the k nearest neighbors indices.\n",
        "\n",
        "    Parameters\n",
        "    ----------\n",
        "    X : array-like of shape (n_queries, n_features)\n",
        "        The testing data.\n",
        "\n",
        "    Returns\n",
        "    -------\n",
        "    (distance, neighbors) : tuple of array-like of shape (n_queries, k) each\n",
        "        distance is the distance of each point from the query points.\n",
        "        neighbors is represents the indices of neighbors in train data.\n",
        "    \"\"\"\n",
        "\n",
        "    X_test = np.array(X)\n",
        "    neighbor_indices = []\n",
        "    neighbor_distances = []\n",
        "    # loop over each test data\n",
        "    for test_data in X_test:\n",
        "      # calculate distances between test data and all the train data\n",
        "      distances = self._getDistances(test_data)\n",
        "      # get k sorted indices based on distance\n",
        "      distance_indices = np.argsort(distances)[:self.n_neighbors]\n",
        "      # append indices of the neighbors\n",
        "      neighbor_indices.append(distance_indices)\n",
        "      # append distance of the neighbors\n",
        "      neighbor_distances.append(distances[distance_indices])\n",
        "    # return (distance, neighbors)\n",
        "    return (np.array(neighbor_distances), np.array(neighbor_indices))\n",
        "\n",
        "  def _getDistances(self, test_data):\n",
        "    if self.metric == 'euclidean':\n",
        "      p = 2\n",
        "    elif self.metric == 'manhattan':\n",
        "      p = 1\n",
        "    else:\n",
        "      p = self.p\n",
        "    # implement the distance calculation\n",
        "    distances = np.power(np.sum(np.power(np.abs(test_data-self.X_train), p), axis=1), 1/p)\n",
        "    return distances\n",
        "  "
      ],
      "execution_count": 140,
      "outputs": []
    },
    {
      "cell_type": "markdown",
      "metadata": {
        "id": "ecv8Jat3wku7"
      },
      "source": [
        "##Testing the validity of implementation by comparing with **sklearn.neighbors.KNeighborsClassifier**"
      ]
    },
    {
      "cell_type": "code",
      "metadata": {
        "id": "RS72_d0y_uXs"
      },
      "source": [
        "from sklearn.model_selection import train_test_split\n",
        "from sklearn.neighbors import NearestNeighbors\n",
        "from sklearn.datasets import load_iris\n",
        "from sklearn.metrics import accuracy_score"
      ],
      "execution_count": 84,
      "outputs": []
    },
    {
      "cell_type": "code",
      "metadata": {
        "colab": {
          "base_uri": "https://localhost:8080/"
        },
        "id": "56R95IvP6EJL",
        "outputId": "781c1f4f-3bef-4853-aa10-195cdbe1e43a"
      },
      "source": [
        "# See doc\n",
        "help(Knn)"
      ],
      "execution_count": 118,
      "outputs": [
        {
          "output_type": "stream",
          "text": [
            "Help on class Knn in module __main__:\n",
            "\n",
            "class Knn(builtins.object)\n",
            " |  Knn(n_neighbors=5, weights='uniform', p=2, metric='minkowski')\n",
            " |  \n",
            " |  k-nearest neighbors aka knn is a classification technique which looks\n",
            " |  at it's neighbors to predict label for a query point.\n",
            " |  \n",
            " |  Parameters\n",
            " |  ----------\n",
            " |  n_neighbors : int, default=5\n",
            " |      Number of nearest neighbors to look at for predicting.\n",
            " |  \n",
            " |  weights : {'uniform', 'distance'}, default='uniform'\n",
            " |      uniform gives equal importance to each neighbors.\n",
            " |      distance gives more importance to closer neighbor, importance = 1/distance.\n",
            " |  \n",
            " |  p : int, default=2\n",
            " |      It is parameter for the minkowski distance (lp distance). It is used only\n",
            " |      when metric=minkowski.\n",
            " |  \n",
            " |  metric : {'minkowski', 'manhattan', 'euclidean'}, default='minkowski'\n",
            " |      The distance metric used to check for neighbors. The default is minkowski\n",
            " |      with p=2 which is equivalent to euclidean.\n",
            " |  \n",
            " |  Attributes\n",
            " |  ----------\n",
            " |  classes_ : array of shape (n_classes,)\n",
            " |      It returns the class labels based on fitted data.\n",
            " |  \n",
            " |  n_classes_ : int\n",
            " |      It returns the number of distinct class labels based on fitted data.\n",
            " |  \n",
            " |  n_samples_fit_ : int\n",
            " |      It gives number of train data fitted.\n",
            " |  \n",
            " |  Methods defined here:\n",
            " |  \n",
            " |  __init__(self, n_neighbors=5, weights='uniform', p=2, metric='minkowski')\n",
            " |      Initialize self.  See help(type(self)) for accurate signature.\n",
            " |  \n",
            " |  fit(self, X, y)\n",
            " |      Fit the training data to the model.\n",
            " |      \n",
            " |      Parameters\n",
            " |      ----------\n",
            " |      X : array-like of shape (n_samples, n_features)\n",
            " |          The training data.\n",
            " |      \n",
            " |      y : array-like of shape (n_samples,)\n",
            " |          The target labels.\n",
            " |      \n",
            " |      Returns\n",
            " |      -------\n",
            " |      self\n",
            " |  \n",
            " |  kneighbors(self, X)\n",
            " |      Return the distances and the k nearest neighbors indices.\n",
            " |      \n",
            " |      Parameters\n",
            " |      ----------\n",
            " |      X : array-like of shape (n_queries, n_features)\n",
            " |          The testing data.\n",
            " |      \n",
            " |      Returns\n",
            " |      -------\n",
            " |      (distance, neighbors) : tuple of array-like of shape (n_queries, k) each\n",
            " |          distance is the distance of each point from the query points.\n",
            " |          neighbors is represents the indices of neighbors in train data.\n",
            " |  \n",
            " |  predict(self, X)\n",
            " |      Predict the labels of test data.\n",
            " |      \n",
            " |      Parameters\n",
            " |      ----------\n",
            " |      X : array-like of shape (n_queries, n_features)\n",
            " |          The testing data.\n",
            " |      \n",
            " |      Returns\n",
            " |      -------\n",
            " |      y : array-like of shape (n_queries,)\n",
            " |          The target labels of test data.\n",
            " |  \n",
            " |  ----------------------------------------------------------------------\n",
            " |  Data descriptors defined here:\n",
            " |  \n",
            " |  __dict__\n",
            " |      dictionary for instance variables (if defined)\n",
            " |  \n",
            " |  __weakref__\n",
            " |      list of weak references to the object (if defined)\n",
            "\n"
          ],
          "name": "stdout"
        }
      ]
    },
    {
      "cell_type": "code",
      "metadata": {
        "id": "QoLa0dLnxDpL"
      },
      "source": [
        "data = load_iris()"
      ],
      "execution_count": 85,
      "outputs": []
    },
    {
      "cell_type": "code",
      "metadata": {
        "id": "5hNLi7uZ_y4k"
      },
      "source": [
        "#increased test size to get some inaccuraccy\n",
        "X_train, X_test, y_train, y_test = train_test_split(data.data, data.target, test_size=0.40, random_state=42)"
      ],
      "execution_count": 110,
      "outputs": []
    },
    {
      "cell_type": "code",
      "metadata": {
        "colab": {
          "base_uri": "https://localhost:8080/"
        },
        "id": "p8IoeoCuMRq5",
        "outputId": "7e26709c-39ba-4f2a-9c36-3c44909375fb"
      },
      "source": [
        "neigh = KNeighborsClassifier()\n",
        "neigh.fit(X_train, y_train)\n",
        "print('classes : ',neigh.classes_)\n",
        "y_pred = neigh.predict(X_test)\n",
        "print('y_pred : ',y_pred)\n",
        "print('score : ',accuracy_score(y_test, y_pred))"
      ],
      "execution_count": 121,
      "outputs": [
        {
          "output_type": "stream",
          "text": [
            "classes :  [0 1 2]\n",
            "y_pred :  [1 0 2 1 1 0 1 2 1 1 2 0 0 0 0 1 2 1 1 2 0 2 0 2 2 2 2 2 0 0 0 0 1 0 0 2 1\n",
            " 0 0 0 2 1 1 0 0 1 1 2 1 2 1 2 1 0 2 1 0 0 0 1]\n",
            "score :  0.9833333333333333\n"
          ],
          "name": "stdout"
        }
      ]
    },
    {
      "cell_type": "code",
      "metadata": {
        "colab": {
          "base_uri": "https://localhost:8080/"
        },
        "id": "mu_JKqAVzGzg",
        "outputId": "49292c25-00a6-4ab6-e57c-c0b32607d288"
      },
      "source": [
        "neigh = Knn()\n",
        "neigh.fit(X_train, y_train)\n",
        "print('classes : ',neigh.classes_)\n",
        "y_pred = neigh.predict(X_test)\n",
        "print('y_pred : ',y_pred)\n",
        "print('score : ',accuracy_score(y_test, y_pred))"
      ],
      "execution_count": 120,
      "outputs": [
        {
          "output_type": "stream",
          "text": [
            "classes :  [0 1 2]\n",
            "y_pred :  [1 0 2 1 1 0 1 2 1 1 2 0 0 0 0 1 2 1 1 2 0 2 0 2 2 2 2 2 0 0 0 0 1 0 0 2 1\n",
            " 0 0 0 2 1 1 0 0 1 1 2 1 2 1 2 1 0 2 1 0 0 0 1]\n",
            "score :  0.9833333333333333\n"
          ],
          "name": "stdout"
        }
      ]
    },
    {
      "cell_type": "markdown",
      "metadata": {
        "id": "GYQhbu6E5LSB"
      },
      "source": [
        "We are getting same predicted values and accuracy score for both the models."
      ]
    },
    {
      "cell_type": "code",
      "metadata": {
        "colab": {
          "base_uri": "https://localhost:8080/"
        },
        "id": "xuo37qcp2pGq",
        "outputId": "9f416729-2831-442e-a73e-3124ce9e6b66"
      },
      "source": [
        "neigh = KNeighborsClassifier(n_neighbors=15, metric='manhattan')\n",
        "neigh.fit(X_train, y_train)\n",
        "y_pred = neigh.predict(X_test)\n",
        "print('score : ',accuracy_score(y_test, y_pred))"
      ],
      "execution_count": 135,
      "outputs": [
        {
          "output_type": "stream",
          "text": [
            "y_pred :  [1 0 2 1 1 0 1 2 1 1 2 0 0 0 0 1 2 1 1 2 0 2 0 2 2 2 2 2 0 0 0 0 1 0 0 2 1\n",
            " 0 0 0 2 1 1 0 0 1 2 2 1 2 1 2 1 0 2 1 0 0 0 1]\n",
            "score :  1.0\n"
          ],
          "name": "stdout"
        }
      ]
    },
    {
      "cell_type": "code",
      "metadata": {
        "colab": {
          "base_uri": "https://localhost:8080/"
        },
        "id": "dXwi0P3c7B4B",
        "outputId": "4d87286c-c70c-497a-9c47-722740b654e3"
      },
      "source": [
        "neigh = Knn(n_neighbors=15, metric='manhattan')\n",
        "neigh.fit(X_train, y_train)\n",
        "y_pred = neigh.predict(X_test)\n",
        "print('score : ',accuracy_score(y_test, y_pred))"
      ],
      "execution_count": 136,
      "outputs": [
        {
          "output_type": "stream",
          "text": [
            "y_pred :  [1 0 2 1 1 0 1 2 1 1 2 0 0 0 0 1 2 1 1 2 0 2 0 2 2 2 2 2 0 0 0 0 1 0 0 2 1\n",
            " 0 0 0 2 1 1 0 0 1 2 2 1 2 1 2 1 0 2 1 0 0 0 1]\n",
            "score :  1.0\n"
          ],
          "name": "stdout"
        }
      ]
    },
    {
      "cell_type": "markdown",
      "metadata": {
        "id": "OZ7tp7fl783X"
      },
      "source": [
        "Other params such as n_neighbors and metric also seems to be working fine."
      ]
    },
    {
      "cell_type": "code",
      "metadata": {
        "colab": {
          "base_uri": "https://localhost:8080/"
        },
        "id": "-9tAPxHy7EXF",
        "outputId": "a4994026-639e-411e-9c29-45b591d35a88"
      },
      "source": [
        "neigh = KNeighborsClassifier(n_neighbors=3, metric='manhattan')\n",
        "neigh.fit(X_train, y_train)\n",
        "print(neigh.kneighbors(X_test[:2]))"
      ],
      "execution_count": 147,
      "outputs": [
        {
          "output_type": "stream",
          "text": [
            "(array([[0.3, 0.5, 0.7],\n",
            "       [0.5, 0.8, 0.8]]), array([[49, 60,  9],\n",
            "       [18, 84, 64]]))\n"
          ],
          "name": "stdout"
        }
      ]
    },
    {
      "cell_type": "code",
      "metadata": {
        "colab": {
          "base_uri": "https://localhost:8080/"
        },
        "id": "YAesevsf8PNw",
        "outputId": "f4b252e0-a001-45fc-9aee-2c0911f1b05b"
      },
      "source": [
        "neigh = Knn(n_neighbors=3, metric='manhattan')\n",
        "neigh.fit(X_train, y_train)\n",
        "print(neigh.kneighbors(X_test[:2]))"
      ],
      "execution_count": 150,
      "outputs": [
        {
          "output_type": "stream",
          "text": [
            "(array([[0.3, 0.5, 0.7],\n",
            "       [0.5, 0.8, 0.8]]), array([[49, 60,  9],\n",
            "       [18, 84, 64]]))\n"
          ],
          "name": "stdout"
        }
      ]
    },
    {
      "cell_type": "markdown",
      "metadata": {
        "id": "pujwSYyy9avI"
      },
      "source": [
        "kneighbors method is also working as expected"
      ]
    },
    {
      "cell_type": "code",
      "metadata": {
        "id": "--2bJoLV9bFz"
      },
      "source": [
        ""
      ],
      "execution_count": null,
      "outputs": []
    }
  ]
}