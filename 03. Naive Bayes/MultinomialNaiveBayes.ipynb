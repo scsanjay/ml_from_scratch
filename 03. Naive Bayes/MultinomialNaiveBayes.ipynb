{
  "nbformat": 4,
  "nbformat_minor": 0,
  "metadata": {
    "colab": {
      "name": "MultinomialNaiveBayes.ipynb",
      "provenance": [],
      "collapsed_sections": [],
      "authorship_tag": "ABX9TyM4Me459GTyvbUbejy9M9Zv",
      "include_colab_link": true
    },
    "kernelspec": {
      "name": "python3",
      "display_name": "Python 3"
    },
    "language_info": {
      "name": "python"
    }
  },
  "cells": [
    {
      "cell_type": "markdown",
      "metadata": {
        "id": "view-in-github",
        "colab_type": "text"
      },
      "source": [
        "<a href=\"https://colab.research.google.com/github/scsanjay/ml_from_scratch/blob/main/03.%20Naive%20Bayes/MultinomialNaiveBayes.ipynb\" target=\"_parent\"><img src=\"https://colab.research.google.com/assets/colab-badge.svg\" alt=\"Open In Colab\"/></a>"
      ]
    },
    {
      "cell_type": "markdown",
      "metadata": {
        "id": "R1KLHqUdOrlx"
      },
      "source": [
        "# Implementation of Multinomial Naive Bayes"
      ]
    },
    {
      "cell_type": "code",
      "metadata": {
        "id": "jo5E-QjUb5I4"
      },
      "source": [
        "import numpy as np"
      ],
      "execution_count": null,
      "outputs": []
    },
    {
      "cell_type": "code",
      "metadata": {
        "id": "UTRwsEa7NXKF"
      },
      "source": [
        "class MultinomialNaiveBayes:\n",
        "  \"\"\"\n",
        "  Parameters\n",
        "  ----------\n",
        "  alpha : float, default=1.0\n",
        "\n",
        "  fit_prior : bool, default=True\n",
        "\n",
        "  class_prior : array-like of shape (n_classes,), default=None\n",
        "\n",
        "  Attributes\n",
        "  ----------\n",
        "  class_count_ : ndarray of shape (n_classes,)\n",
        "\n",
        "  class_log_prior_ : ndarray of shape (n_classes, )\n",
        "\n",
        "  classes_ : ndarray of shape (n_classes,)\n",
        "  \n",
        "  n_classes_ : int\n",
        "\n",
        "  feature_count_ : ndarray of shape (n_classes, n_features)\n",
        "\n",
        "  feature_log_prob_ : ndarray of shape (n_classes, n_features)\n",
        "\n",
        "  n_features_ : int\n",
        "  \"\"\"\n",
        "\n",
        "  def __init__(self, alpha=1.0, fit_prior=True, class_prior=None):\n",
        "    self.alpha = alpha\n",
        "    self.fit_prior = fit_prior\n",
        "    self.class_prior = class_prior\n",
        "\n",
        "  def fit(self, X, y):\n",
        "    \"\"\"\n",
        "    Parameters\n",
        "    ----------\n",
        "    X : array-like of shape (n_samples, n_features)\n",
        "    y : array-like of shape (n_samples,)\n",
        "\n",
        "    Returns\n",
        "    -------\n",
        "    self : object\n",
        "    \"\"\"\n",
        "    # convert train data to numpy array if in other form\n",
        "    X_train = np.array(X)\n",
        "    y_train = np.array(y)\n",
        "    \n",
        "    n_samples = len(y_train)\n",
        "\n",
        "    # get distinct class labels\n",
        "    self.classes_ = np.sort(np.unique(y_train))\n",
        "\n",
        "    # get total number of class available\n",
        "    self.n_classes_ = len(self.classes_)\n",
        "\n",
        "    # get frequency for each class\n",
        "    self.class_count_ = np.zeros(self.n_classes_)\n",
        "    for idx, class_ in enumerate(self.classes_):\n",
        "      self.class_count_[idx] = np.count_nonzero(y_train == class_)\n",
        "    \n",
        "    # get log priors\n",
        "    self.class_log_prior_ = np.zeros(self.n_classes_)\n",
        "    if self.class_prior is not None:\n",
        "      self.class_log_prior_ = np.log(np.array(self.class_prior))\n",
        "    elif self.fit_prior == False:\n",
        "      self.class_log_prior_ = np.full(self.n_classes, -np.log(self.n_classes))\n",
        "    else:\n",
        "      self.class_log_prior_ = np.log(self.class_count_/n_samples)\n",
        "\n",
        "    # number of features\n",
        "    self.n_features_ = X_train.shape[1]\n",
        "\n",
        "    # get feature counts and log likelihood probabilities\n",
        "    # for each class and each features\n",
        "    self.feature_count_ = np.zeros((self.n_classes_, self.n_features_))\n",
        "    self.feature_log_prob_ = np.zeros((self.n_classes_, self.n_features_))\n",
        "    for i, class_ in enumerate(self.classes_):\n",
        "      # get data according to class\n",
        "      temp_data = X_train[np.where(y_train==class_)]\n",
        "      self.feature_count_[i] = np.sum(temp_data, axis=0)\n",
        "      self.feature_log_prob_[i] = np.log(\n",
        "                                (self.feature_count_[i]+self.alpha)/\n",
        "                                (np.sum(self.feature_count_[i])+self.alpha*self.n_features_)\n",
        "                                )\n",
        "    return self\n",
        "\n",
        "  def predict(self, X):\n",
        "    \"\"\"\n",
        "    Parameters\n",
        "    ----------\n",
        "    X : array-like of shape (n_samples, n_features)\n",
        "\n",
        "    Returns\n",
        "    -------\n",
        "    C : ndarray of shape (n_samples,)\n",
        "    \"\"\"\n",
        "    # convert test data to numpy array if in other form\n",
        "    X_test = np.array(X)\n",
        "\n",
        "    y_pred = np.empty(len(X_test))\n",
        "\n",
        "    #predict class for each test data\n",
        "    for idx, x in enumerate(X_test):\n",
        "      # SUM(xij*log_likelyhood(fij))+log_prior(j) \n",
        "      # where j is class and fij is probability of feature i given j class\n",
        "      y_pred[idx] = self.classes_[np.argmax(np.dot(x, self.feature_log_prob_.T) + self.class_log_prior_)]\n",
        "    \n",
        "    return y_pred\n",
        "      \n"
      ],
      "execution_count": null,
      "outputs": []
    },
    {
      "cell_type": "markdown",
      "metadata": {
        "id": "tUChhFKVPpO3"
      },
      "source": [
        "# Compare the implementation with sklearn.naive_bayes.MultinomialNB"
      ]
    },
    {
      "cell_type": "code",
      "metadata": {
        "id": "LBNYFvH2AA1A"
      },
      "source": [
        "from sklearn.naive_bayes import MultinomialNB"
      ],
      "execution_count": null,
      "outputs": []
    },
    {
      "cell_type": "code",
      "metadata": {
        "id": "1XIfC_n9Ca4M"
      },
      "source": [
        "# Let's create some data\n",
        "X_train = np.array([\n",
        "  [2,1,3,1,0],\n",
        "  [1,3,2,0,1],\n",
        "  [0,0,1,2,3],\n",
        "  [1,0,0,3,1],\n",
        "  [1,0,0,2,2]\n",
        " ])\n",
        "y_train = np.array([1, 1, 0, 0, 0])\n",
        "\n",
        "X_test = np.array([\n",
        "  [3,1,2,1,0],\n",
        "  [0,1,0,1,3]\n",
        " ])"
      ],
      "execution_count": null,
      "outputs": []
    },
    {
      "cell_type": "markdown",
      "metadata": {
        "id": "LSCJlFm9QhwD"
      },
      "source": [
        "my_clf is object of the implemented Multinomial Naive Bayes"
      ]
    },
    {
      "cell_type": "code",
      "metadata": {
        "colab": {
          "base_uri": "https://localhost:8080/"
        },
        "id": "n6EK8b-bC8V5",
        "outputId": "8421b7f4-5248-400a-dac4-eaf6260e5d75"
      },
      "source": [
        "my_clf = MultinomialNaiveBayes()\n",
        "my_clf.fit(X_train, y_train)"
      ],
      "execution_count": null,
      "outputs": [
        {
          "output_type": "execute_result",
          "data": {
            "text/plain": [
              "<__main__.MultinomialNaiveBayes at 0x7f980e15f850>"
            ]
          },
          "metadata": {
            "tags": []
          },
          "execution_count": 93
        }
      ]
    },
    {
      "cell_type": "code",
      "metadata": {
        "colab": {
          "base_uri": "https://localhost:8080/"
        },
        "id": "S3lfUHdqRRyK",
        "outputId": "42477bd3-e4e8-41fc-b66c-ef5bace34a85"
      },
      "source": [
        "help(my_clf)"
      ],
      "execution_count": null,
      "outputs": [
        {
          "output_type": "stream",
          "text": [
            "Help on MultinomialNaiveBayes in module __main__ object:\n",
            "\n",
            "class MultinomialNaiveBayes(builtins.object)\n",
            " |  MultinomialNaiveBayes(alpha=1.0, fit_prior=True, class_prior=None)\n",
            " |  \n",
            " |  Parameters\n",
            " |  ----------\n",
            " |  alpha : float, default=1.0\n",
            " |  \n",
            " |  fit_prior : bool, default=True\n",
            " |  \n",
            " |  class_prior : array-like of shape (n_classes,), default=None\n",
            " |  \n",
            " |  Attributes\n",
            " |  ----------\n",
            " |  class_count_ : ndarray of shape (n_classes,)\n",
            " |  \n",
            " |  class_log_prior_ : ndarray of shape (n_classes, )\n",
            " |  \n",
            " |  classes_ : ndarray of shape (n_classes,)\n",
            " |  \n",
            " |  n_classes_ : int\n",
            " |  \n",
            " |  feature_count_ : ndarray of shape (n_classes, n_features)\n",
            " |  \n",
            " |  feature_log_prob_ : ndarray of shape (n_classes, n_features)\n",
            " |  \n",
            " |  n_features_ : int\n",
            " |  \n",
            " |  Methods defined here:\n",
            " |  \n",
            " |  __init__(self, alpha=1.0, fit_prior=True, class_prior=None)\n",
            " |      Initialize self.  See help(type(self)) for accurate signature.\n",
            " |  \n",
            " |  fit(self, X, y)\n",
            " |      Parameters\n",
            " |      ----------\n",
            " |      X : array-like of shape (n_samples, n_features)\n",
            " |      y : array-like of shape (n_samples,)\n",
            " |      \n",
            " |      Returns\n",
            " |      -------\n",
            " |      self : object\n",
            " |  \n",
            " |  predict(self, X)\n",
            " |      Parameters\n",
            " |      ----------\n",
            " |      X : array-like of shape (n_samples, n_features)\n",
            " |      \n",
            " |      Returns\n",
            " |      -------\n",
            " |      C : ndarray of shape (n_samples,)\n",
            " |  \n",
            " |  ----------------------------------------------------------------------\n",
            " |  Data descriptors defined here:\n",
            " |  \n",
            " |  __dict__\n",
            " |      dictionary for instance variables (if defined)\n",
            " |  \n",
            " |  __weakref__\n",
            " |      list of weak references to the object (if defined)\n",
            "\n"
          ],
          "name": "stdout"
        }
      ]
    },
    {
      "cell_type": "markdown",
      "metadata": {
        "id": "CE75GNLqQ_KS"
      },
      "source": [
        "clf is object of sklearn's implementation"
      ]
    },
    {
      "cell_type": "code",
      "metadata": {
        "colab": {
          "base_uri": "https://localhost:8080/"
        },
        "id": "dVLINBzoC_AF",
        "outputId": "2e010af1-535d-437f-e6e4-b2b229f1ee65"
      },
      "source": [
        "clf = MultinomialNB()\n",
        "clf.fit(X_train, y_train)"
      ],
      "execution_count": null,
      "outputs": [
        {
          "output_type": "execute_result",
          "data": {
            "text/plain": [
              "MultinomialNB(alpha=1.0, class_prior=None, fit_prior=True)"
            ]
          },
          "metadata": {
            "tags": []
          },
          "execution_count": 95
        }
      ]
    },
    {
      "cell_type": "markdown",
      "metadata": {
        "id": "MxAf7wfbSNHv"
      },
      "source": [
        "### Let's compare the attributes"
      ]
    },
    {
      "cell_type": "code",
      "metadata": {
        "colab": {
          "base_uri": "https://localhost:8080/"
        },
        "id": "X-sSB6gaRy7L",
        "outputId": "965119a5-6891-40e6-cc70-699387235d46"
      },
      "source": [
        "print(my_clf.class_log_prior_)\n",
        "print(clf.class_log_prior_)"
      ],
      "execution_count": null,
      "outputs": [
        {
          "output_type": "stream",
          "text": [
            "[-0.51082562 -0.91629073]\n",
            "[-0.51082562 -0.91629073]\n"
          ],
          "name": "stdout"
        }
      ]
    },
    {
      "cell_type": "code",
      "metadata": {
        "colab": {
          "base_uri": "https://localhost:8080/"
        },
        "id": "aRGmp5JjSAXd",
        "outputId": "d02aa498-f5dc-40a6-b0cc-7fd27d3d24f8"
      },
      "source": [
        "print(my_clf.feature_count_)\n",
        "print(clf.feature_count_)"
      ],
      "execution_count": null,
      "outputs": [
        {
          "output_type": "stream",
          "text": [
            "[[2. 0. 1. 7. 6.]\n",
            " [3. 4. 5. 1. 1.]]\n",
            "[[2. 0. 1. 7. 6.]\n",
            " [3. 4. 5. 1. 1.]]\n"
          ],
          "name": "stdout"
        }
      ]
    },
    {
      "cell_type": "code",
      "metadata": {
        "colab": {
          "base_uri": "https://localhost:8080/"
        },
        "id": "4lHsLun5OgVP",
        "outputId": "e7fb07f9-4ef6-4b44-ed01-51fa01817df2"
      },
      "source": [
        "print(my_clf.feature_log_prob_)\n",
        "print(clf.feature_log_prob_)"
      ],
      "execution_count": null,
      "outputs": [
        {
          "output_type": "stream",
          "text": [
            "[[-1.94591015 -3.04452244 -2.35137526 -0.9650809  -1.09861229]\n",
            " [-1.55814462 -1.33500107 -1.15267951 -2.2512918  -2.2512918 ]]\n",
            "[[-1.94591015 -3.04452244 -2.35137526 -0.9650809  -1.09861229]\n",
            " [-1.55814462 -1.33500107 -1.15267951 -2.2512918  -2.2512918 ]]\n"
          ],
          "name": "stdout"
        }
      ]
    },
    {
      "cell_type": "markdown",
      "metadata": {
        "id": "AEnKX2geSTWJ"
      },
      "source": [
        "### Let's compare the predict"
      ]
    },
    {
      "cell_type": "code",
      "metadata": {
        "colab": {
          "base_uri": "https://localhost:8080/"
        },
        "id": "kOMhJW2JOVaz",
        "outputId": "563c0ce4-0269-4a9d-a3a5-9858aab6df31"
      },
      "source": [
        "my_clf.predict(X_test)"
      ],
      "execution_count": null,
      "outputs": [
        {
          "output_type": "execute_result",
          "data": {
            "text/plain": [
              "array([1., 0.])"
            ]
          },
          "metadata": {
            "tags": []
          },
          "execution_count": 99
        }
      ]
    },
    {
      "cell_type": "code",
      "metadata": {
        "colab": {
          "base_uri": "https://localhost:8080/"
        },
        "id": "4uYookUxDLEi",
        "outputId": "fd7d4c92-49fd-4847-d7e4-5fc4ca30551b"
      },
      "source": [
        "clf.predict(X_test)"
      ],
      "execution_count": null,
      "outputs": [
        {
          "output_type": "execute_result",
          "data": {
            "text/plain": [
              "array([1, 0])"
            ]
          },
          "metadata": {
            "tags": []
          },
          "execution_count": 100
        }
      ]
    },
    {
      "cell_type": "markdown",
      "metadata": {
        "id": "GTZFhkiTS0DB"
      },
      "source": [
        "### Let's try setting prior"
      ]
    },
    {
      "cell_type": "code",
      "metadata": {
        "colab": {
          "base_uri": "https://localhost:8080/"
        },
        "id": "FSIEouYKTMZF",
        "outputId": "18ad02f8-2184-465a-cb2b-090ca46441e6"
      },
      "source": [
        "my_clf = MultinomialNaiveBayes(class_prior=[1000,1])\n",
        "my_clf.fit(X_train, y_train)\n",
        "my_clf.predict(X_test)"
      ],
      "execution_count": null,
      "outputs": [
        {
          "output_type": "execute_result",
          "data": {
            "text/plain": [
              "array([0., 0.])"
            ]
          },
          "metadata": {
            "tags": []
          },
          "execution_count": 101
        }
      ]
    },
    {
      "cell_type": "code",
      "metadata": {
        "colab": {
          "base_uri": "https://localhost:8080/"
        },
        "id": "c0pXD0RnTUl7",
        "outputId": "7ff9f7e1-723f-4e7e-f195-bc9ab62c0760"
      },
      "source": [
        "clf = MultinomialNB(class_prior=[1000,1])\n",
        "clf.fit(X_train, y_train)\n",
        "clf.predict(X_test)"
      ],
      "execution_count": null,
      "outputs": [
        {
          "output_type": "execute_result",
          "data": {
            "text/plain": [
              "array([0, 0])"
            ]
          },
          "metadata": {
            "tags": []
          },
          "execution_count": 102
        }
      ]
    },
    {
      "cell_type": "markdown",
      "metadata": {
        "id": "DccQA3mpU3uN"
      },
      "source": [
        "### Let's try with aplha=10"
      ]
    },
    {
      "cell_type": "code",
      "metadata": {
        "colab": {
          "base_uri": "https://localhost:8080/"
        },
        "id": "jt32ywvOVCW0",
        "outputId": "8c55d7d5-3c39-4680-9572-bf30631c23df"
      },
      "source": [
        "my_clf = MultinomialNaiveBayes(alpha=10)\n",
        "my_clf.fit(X_train, y_train)\n",
        "print(my_clf.feature_log_prob_)"
      ],
      "execution_count": null,
      "outputs": [
        {
          "output_type": "stream",
          "text": [
            "[[-1.70474809 -1.88706965 -1.79175947 -1.3564414  -1.41706602]\n",
            " [-1.59393373 -1.51982575 -1.45083288 -1.76098781 -1.76098781]]\n"
          ],
          "name": "stdout"
        }
      ]
    },
    {
      "cell_type": "code",
      "metadata": {
        "colab": {
          "base_uri": "https://localhost:8080/"
        },
        "id": "fujkURDoVYsB",
        "outputId": "f4374395-3650-4861-e96b-accc0aee77e9"
      },
      "source": [
        "clf = MultinomialNB(alpha=10)\n",
        "clf.fit(X_train, y_train)\n",
        "print(clf.feature_log_prob_)"
      ],
      "execution_count": null,
      "outputs": [
        {
          "output_type": "stream",
          "text": [
            "[[-1.70474809 -1.88706965 -1.79175947 -1.3564414  -1.41706602]\n",
            " [-1.59393373 -1.51982575 -1.45083288 -1.76098781 -1.76098781]]\n"
          ],
          "name": "stdout"
        }
      ]
    },
    {
      "cell_type": "markdown",
      "metadata": {
        "id": "233EgXmCT1NY"
      },
      "source": [
        "## Everything seems to be working fine"
      ]
    }
  ]
}