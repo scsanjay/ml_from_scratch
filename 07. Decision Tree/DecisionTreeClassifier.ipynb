{
  "nbformat": 4,
  "nbformat_minor": 0,
  "metadata": {
    "colab": {
      "name": "DecisionTreeClassifier.ipynb",
      "provenance": [],
      "collapsed_sections": [],
      "authorship_tag": "ABX9TyNQKQEaVUqcedZxe8JsdSs9",
      "include_colab_link": true
    },
    "kernelspec": {
      "name": "python3",
      "display_name": "Python 3"
    },
    "language_info": {
      "name": "python"
    }
  },
  "cells": [
    {
      "cell_type": "markdown",
      "metadata": {
        "id": "view-in-github",
        "colab_type": "text"
      },
      "source": [
        "<a href=\"https://colab.research.google.com/github/scsanjay/ml_from_scratch/blob/main/07.%20Decision%20Tree/DecisionTreeClassifier.ipynb\" target=\"_parent\"><img src=\"https://colab.research.google.com/assets/colab-badge.svg\" alt=\"Open In Colab\"/></a>"
      ]
    },
    {
      "cell_type": "markdown",
      "metadata": {
        "id": "h_rL80tp3gLU"
      },
      "source": [
        "## Custom implementation of Decision Tree Classfier"
      ]
    },
    {
      "cell_type": "code",
      "metadata": {
        "id": "k9cw-wesOW0c"
      },
      "source": [
        "import numpy as np"
      ],
      "execution_count": 9,
      "outputs": []
    },
    {
      "cell_type": "code",
      "metadata": {
        "id": "d51JWtIXVmB4"
      },
      "source": [
        "class DecisionTreeClassifier:\n",
        "  \"\"\"\n",
        "  Decision Tree Classification with Gini Impurity.\n",
        "\n",
        "  Parameters\n",
        "  ----------\n",
        "  max_depth : int, default=None\n",
        "    Maximum depth that the tree can have. If None then tree grows till node\n",
        "    have samples less than min_samples_split or gini impurity becomes 0 \n",
        "    that means pure node.\n",
        "  \n",
        "  min_samples_split : int, default = 2\n",
        "    Minimum number of samples required in the node to be considered\n",
        "    for next split.\n",
        "  \"\"\"\n",
        "\n",
        "  def __init__ (self, max_depth=None, min_samples_split=2):\n",
        "    self.max_depth = max_depth\n",
        "    self.min_samples_split = min_samples_split\n",
        "\n",
        "  def _get_gini_impurity(self, left_node, right_node):\n",
        "    gini = 0\n",
        "    left_node_n = len(left_node)\n",
        "    right_node_n = len(right_node)\n",
        "    total_samples = left_node_n + right_node_n\n",
        "\n",
        "    # gini impurity of left node\n",
        "    left_node_gini = 1\n",
        "    for unique_class in set(left_node):\n",
        "      left_node_gini -= np.power(\n",
        "            np.count_nonzero(left_node == unique_class)/left_node_n, \n",
        "            2\n",
        "          )\n",
        "      \n",
        "    # gini impurity of right node\n",
        "    right_node_gini = 1\n",
        "    for unique_class in set(right_node):\n",
        "      right_node_gini -= np.power(\n",
        "            np.count_nonzero(right_node == unique_class)/right_node_n, \n",
        "            2\n",
        "          )\n",
        "    \n",
        "    # weigted gini impurity\n",
        "    weigted_gini_impurity = (left_node_gini*left_node_n/total_samples) + \\\n",
        "                            (right_node_gini*right_node_n/total_samples)\n",
        "\n",
        "    return weigted_gini_impurity, total_samples\n",
        "\n",
        "  def _get_best_split(self, x, y):\n",
        "    gini = 1\n",
        "    # transposed, now row represents features\n",
        "    x_t = x.T\n",
        "    # loop over each feature\n",
        "    for j, feature_data in enumerate(x_t):\n",
        "      feature_data_sorted = np.sort(np.unique(feature_data))\n",
        "      # try different thresholds\n",
        "      for i in range(1, len(feature_data_sorted)):\n",
        "        threshold = (feature_data_sorted[i-1]+feature_data_sorted[i])/2\n",
        "        thresholded_index = feature_data<=threshold\n",
        "\n",
        "        left_node_class = y[thresholded_index==True]\n",
        "        right_node_class = y[thresholded_index==False]\n",
        "        \n",
        "        # Get gini impurity based on current childs\n",
        "        gini_temp, total_samples = self._get_gini_impurity(left_node_class, right_node_class)\n",
        "        \n",
        "        if (gini_temp<gini):\n",
        "          gini = gini_temp\n",
        "          feature_index = j\n",
        "          feature_threshold = threshold\n",
        "          samples = total_samples\n",
        "          \n",
        "          # create left node\n",
        "          left_node_data = x[thresholded_index==True]\n",
        "          left_node = [left_node_data, left_node_class]\n",
        "\n",
        "          # create right node\n",
        "          right_node_data = x[thresholded_index==False]\n",
        "          right_node = [right_node_data, right_node_class]\n",
        "\n",
        "          # if we get perfect split then gini will be 0\n",
        "          if gini == 0:\n",
        "            break\n",
        "      if gini == 0:\n",
        "        break\n",
        "        \n",
        "    # create node\n",
        "    result_node = {\n",
        "        'feature_index':feature_index,\n",
        "        'feature_threshold':feature_threshold,\n",
        "        'gini':gini,\n",
        "        'samples':samples,\n",
        "        'childs':[left_node, right_node]\n",
        "    }\n",
        "    return result_node\n",
        "\n",
        "  def _make_leaf_node(self, node1):\n",
        "    classes = node1[1]\n",
        "    predicted = np.bincount(classes).argmax()\n",
        "    return predicted\n",
        "\n",
        "  def _split_tree(self, node, depth=1):\n",
        "    \"\"\"recursively build the decision tree\"\"\"\n",
        "    left_node, right_node = node['childs']\n",
        "    del(node['childs'])\n",
        "\n",
        "    # if max depth reached then stop growing\n",
        "    if self.max_depth is not None and depth>=self.max_depth:\n",
        "      node['left'] = self._make_leaf_node(left_node)\n",
        "      node['right'] = self._make_leaf_node(right_node)\n",
        "      return \n",
        "\n",
        "    # if gini impurity 0 then stop\n",
        "    if node['gini'] == 0:\n",
        "      node['left'] = self._make_leaf_node(left_node)\n",
        "      node['right'] = self._make_leaf_node(right_node)\n",
        "      return \n",
        "\n",
        "    # work on left child\n",
        "    if self.min_samples_split>len(left_node[1]):\n",
        "      node['left'] = self._make_leaf_node(left_node)\n",
        "    else:\n",
        "      node['left'] = self._get_best_split(left_node[0], left_node[1])\n",
        "      self._split_tree(node['left'], depth+1)\n",
        "\n",
        "    # work on right child\n",
        "    if self.min_samples_split>len(right_node[1]):\n",
        "      node['right'] = self._make_leaf_node(right_node)\n",
        "    else:\n",
        "      node['right'] = self._get_best_split(right_node[0], right_node[1])\n",
        "      self._split_tree(node['right'], depth+1)\n",
        "  \n",
        "  def _build_tree(self, x,y):\n",
        "    \"\"\"get root node and start building the tree\"\"\"\n",
        "    node = self._get_best_split(x, y)\n",
        "    self._split_tree(node)\n",
        "    return node\n",
        "    \n",
        "  def fit(self, X_train, y_train):\n",
        "    \"\"\"\n",
        "    # It will create the decision tree based on train data\n",
        "\n",
        "    Parameters\n",
        "    ----------\n",
        "    X_train : array of shape (n_samples, n_features)\n",
        "\n",
        "    Y_train : array of shape (n_samples)\n",
        "\n",
        "    Returns\n",
        "    -------\n",
        "    self : object\n",
        "    \"\"\"\n",
        "    self.tree = self._build_tree(X_train, y_train)\n",
        "    return self\n",
        "\n",
        "  def predict(self, X_test):\n",
        "    \"\"\"\n",
        "    It will predict the output classes for the test data.\n",
        "\n",
        "    Parameters\n",
        "    ----------\n",
        "    X_test : array of shape (n_samples, n_features)\n",
        "\n",
        "    Returns\n",
        "    -------\n",
        "    predictions : array of shape (n_samples,)\n",
        "    \"\"\"\n",
        "    predictions = []\n",
        "    # loop over each test data\n",
        "    for x in X_test:\n",
        "      predicted = self._predict_class(self.tree, x)\n",
        "      predictions.append(predicted)\n",
        "    return np.array(predictions)\n",
        "\n",
        "  def _predict_class(self, node, x):\n",
        "    \"\"\"recursively find the leaf node to predict the class\"\"\"\n",
        "    if x[node['feature_index']] <= node['feature_threshold']:\n",
        "      if isinstance(node['left'], dict):\n",
        "        return self._predict_class(node['left'], x)\n",
        "      else:\n",
        "        return node['left']\n",
        "    else:\n",
        "      if isinstance(node['right'], dict):\n",
        "        return self._predict_class(node['right'], x)\n",
        "      else:\n",
        "        return node['right']"
      ],
      "execution_count": 10,
      "outputs": []
    },
    {
      "cell_type": "markdown",
      "metadata": {
        "id": "1oAm_tS83yyx"
      },
      "source": [
        "## Validation of the custom implementation"
      ]
    },
    {
      "cell_type": "code",
      "metadata": {
        "id": "ewNKDVVkLCa9"
      },
      "source": [
        "from sklearn.datasets import load_iris\n",
        "from sklearn.model_selection import train_test_split\n",
        "\n",
        "iris = load_iris()\n",
        "X_train, X_test, y_train, y_test = train_test_split(iris.data, iris.target, train_size=.8)"
      ],
      "execution_count": 11,
      "outputs": []
    },
    {
      "cell_type": "code",
      "metadata": {
        "colab": {
          "base_uri": "https://localhost:8080/"
        },
        "id": "JZgscfQ-WN3M",
        "outputId": "8488ca6b-5416-4057-f29c-ef2200da64e7"
      },
      "source": [
        "clf = DecisionTreeClassifier()\n",
        "clf.fit(X_train, y_train)"
      ],
      "execution_count": 12,
      "outputs": [
        {
          "output_type": "execute_result",
          "data": {
            "text/plain": [
              "<__main__.DecisionTreeClassifier at 0x7fa3e4c89b50>"
            ]
          },
          "metadata": {
            "tags": []
          },
          "execution_count": 12
        }
      ]
    },
    {
      "cell_type": "code",
      "metadata": {
        "id": "lz-FV_XkWg60"
      },
      "source": [
        "y_pred = clf.predict(X_test)"
      ],
      "execution_count": 13,
      "outputs": []
    },
    {
      "cell_type": "code",
      "metadata": {
        "id": "6zvKlC171VeJ"
      },
      "source": [
        "from sklearn.metrics import accuracy_score, confusion_matrix\n",
        "import seaborn as sns"
      ],
      "execution_count": 14,
      "outputs": []
    },
    {
      "cell_type": "code",
      "metadata": {
        "colab": {
          "base_uri": "https://localhost:8080/"
        },
        "id": "4JqDQYfB11HI",
        "outputId": "e484b726-b4d0-477b-cb1d-a68ac9224fcd"
      },
      "source": [
        "accuracy_score(y_test, y_pred)"
      ],
      "execution_count": 15,
      "outputs": [
        {
          "output_type": "execute_result",
          "data": {
            "text/plain": [
              "1.0"
            ]
          },
          "metadata": {
            "tags": []
          },
          "execution_count": 15
        }
      ]
    },
    {
      "cell_type": "code",
      "metadata": {
        "colab": {
          "base_uri": "https://localhost:8080/",
          "height": 282
        },
        "id": "SIDMR7tN15rk",
        "outputId": "7a705d26-b655-4e2d-c78d-5c6ddf57da46"
      },
      "source": [
        "cf_matrix = confusion_matrix(y_test, y_pred)\n",
        "sns.heatmap(cf_matrix/np.sum(cf_matrix), annot=True, \n",
        "            fmt='.2%', cmap='Blues')"
      ],
      "execution_count": 16,
      "outputs": [
        {
          "output_type": "execute_result",
          "data": {
            "text/plain": [
              "<matplotlib.axes._subplots.AxesSubplot at 0x7fa3d92e87d0>"
            ]
          },
          "metadata": {
            "tags": []
          },
          "execution_count": 16
        },
        {
          "output_type": "display_data",
          "data": {
            "image/png": "[encoded data removed]",
            "text/plain": [
              "<Figure size 432x288 with 2 Axes>"
            ]
          },
          "metadata": {
            "tags": [],
            "needs_background": "light"
          }
        }
      ]
    },
    {
      "cell_type": "markdown",
      "metadata": {
        "id": "ozQ7tP1i4GkT"
      },
      "source": [
        "**We got 100% accuracy. That's the best.**"
      ]
    }
  ]
}