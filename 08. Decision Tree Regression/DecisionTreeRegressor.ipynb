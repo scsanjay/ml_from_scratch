{
  "nbformat": 4,
  "nbformat_minor": 0,
  "metadata": {
    "colab": {
      "name": "DecisionTreeRegressor.ipynb",
      "provenance": [],
      "collapsed_sections": [],
      "authorship_tag": "ABX9TyMgrjQagiQUZAURKXpNk69H",
      "include_colab_link": true
    },
    "kernelspec": {
      "name": "python3",
      "display_name": "Python 3"
    },
    "language_info": {
      "name": "python"
    }
  },
  "cells": [
    {
      "cell_type": "markdown",
      "metadata": {
        "id": "view-in-github",
        "colab_type": "text"
      },
      "source": [
        "<a href=\"https://colab.research.google.com/github/scsanjay/ml_from_scratch/blob/main/08.%20Decision%20Tree%20Regression/DecisionTreeRegressor.ipynb\" target=\"_parent\"><img src=\"https://colab.research.google.com/assets/colab-badge.svg\" alt=\"Open In Colab\"/></a>"
      ]
    },
    {
      "cell_type": "markdown",
      "metadata": {
        "id": "h_rL80tp3gLU"
      },
      "source": [
        "## Custom implementation of Decision Tree Regressor"
      ]
    },
    {
      "cell_type": "code",
      "metadata": {
        "id": "k9cw-wesOW0c"
      },
      "source": [
        "import numpy as np"
      ],
      "execution_count": null,
      "outputs": []
    },
    {
      "cell_type": "code",
      "metadata": {
        "id": "d51JWtIXVmB4"
      },
      "source": [
        "class DecisionTreeRegressor:\n",
        "  \"\"\"\n",
        "  Decision Tree Regression with MSE.\n",
        "\n",
        "  Parameters\n",
        "  ----------\n",
        "  max_depth : int, default=None\n",
        "    Maximum depth that the tree can have. If None then tree grows till node\n",
        "    have samples less than min_samples_split or MSE becomes 0.\n",
        "  \n",
        "  min_samples_split : int, default = 2\n",
        "    Minimum number of samples required in the node to be considered\n",
        "    for next split.\n",
        "  \"\"\"\n",
        "\n",
        "  def __init__ (self, max_depth=None, min_samples_split=2):\n",
        "    self.max_depth = max_depth\n",
        "    self.min_samples_split = min_samples_split\n",
        "\n",
        "  def _get_mse(self, left_node, right_node):\n",
        "    left_node_n = len(left_node)\n",
        "    right_node_n = len(right_node)\n",
        "    total_samples = left_node_n + right_node_n\n",
        "\n",
        "    # mse of left node\n",
        "    left_node_mse = np.mean(np.power(left_node-np.mean(left_node), 2))\n",
        "      \n",
        "    # mse of right node\n",
        "    right_node_mse = np.mean(np.power(right_node-np.mean(right_node), 2))\n",
        "\n",
        "    \n",
        "    # weigted mse\n",
        "    weigted_mse = (left_node_mse*left_node_n/total_samples) + \\\n",
        "                            (right_node_mse*right_node_n/total_samples)\n",
        "\n",
        "    return weigted_mse, total_samples\n",
        "\n",
        "  def _get_best_split(self, x, y):\n",
        "    mse = float('inf')\n",
        "    # transposed, now row represents features\n",
        "    x_t = x.T\n",
        "    # loop over each feature\n",
        "    for j, feature_data in enumerate(x_t):\n",
        "      feature_data_sorted = np.sort(np.unique(feature_data))\n",
        "      # try different thresholds\n",
        "      for i in range(1, len(feature_data_sorted)):\n",
        "        threshold = (feature_data_sorted[i-1]+feature_data_sorted[i])/2\n",
        "        thresholded_index = feature_data<=threshold\n",
        "\n",
        "        left_node_values = y[thresholded_index==True]\n",
        "        right_node_values = y[thresholded_index==False]\n",
        "        \n",
        "        # Get mse based on current childs\n",
        "        mse_temp, total_samples = self._get_mse(left_node_values, right_node_values)\n",
        "        \n",
        "        if (mse_temp<mse):\n",
        "          mse = mse_temp\n",
        "          feature_index = j\n",
        "          feature_threshold = threshold\n",
        "          samples = total_samples\n",
        "          \n",
        "          # create left node\n",
        "          left_node_data = x[thresholded_index==True]\n",
        "          left_node = [left_node_data, left_node_values]\n",
        "\n",
        "          # create right node\n",
        "          right_node_data = x[thresholded_index==False]\n",
        "          right_node = [right_node_data, right_node_values]\n",
        "\n",
        "          # if we get perfect split then mse will be 0\n",
        "          if mse == 0:\n",
        "            break\n",
        "      if mse == 0:\n",
        "        break\n",
        "        \n",
        "    # create node\n",
        "    result_node = {\n",
        "        'feature_index':feature_index,\n",
        "        'feature_threshold':feature_threshold,\n",
        "        'weighted_mse':mse,\n",
        "        'samples':samples,\n",
        "        'childs':[left_node, right_node]\n",
        "    }\n",
        "    return result_node\n",
        "\n",
        "  def _make_leaf_node(self, node1):\n",
        "    predicted = np.mean(node1[1])\n",
        "    return predicted\n",
        "\n",
        "  def _split_tree(self, node, depth=1):\n",
        "    \"\"\"recursively build the decision tree\"\"\"\n",
        "    left_node, right_node = node['childs']\n",
        "    del(node['childs'])\n",
        "\n",
        "    # if max depth reached then stop growing\n",
        "    if self.max_depth is not None and depth>=self.max_depth:\n",
        "      node['left'] = self._make_leaf_node(left_node)\n",
        "      node['right'] = self._make_leaf_node(right_node)\n",
        "      return \n",
        "\n",
        "    # if weighted_mse = 0 then stop\n",
        "    if node['weighted_mse'] == 0:\n",
        "      node['left'] = self._make_leaf_node(left_node)\n",
        "      node['right'] = self._make_leaf_node(right_node)\n",
        "      return \n",
        "\n",
        "    # work on left child\n",
        "    if self.min_samples_split>len(left_node[1]):\n",
        "      node['left'] = self._make_leaf_node(left_node)\n",
        "    else:\n",
        "      node['left'] = self._get_best_split(left_node[0], left_node[1])\n",
        "      self._split_tree(node['left'], depth+1)\n",
        "\n",
        "    # work on right child\n",
        "    if self.min_samples_split>len(right_node[1]):\n",
        "      node['right'] = self._make_leaf_node(right_node)\n",
        "    else:\n",
        "      node['right'] = self._get_best_split(right_node[0], right_node[1])\n",
        "      self._split_tree(node['right'], depth+1)\n",
        "  \n",
        "  def _build_tree(self, x,y):\n",
        "    \"\"\"get root node and start building the tree\"\"\"\n",
        "    node = self._get_best_split(x, y)\n",
        "    self._split_tree(node)\n",
        "    return node\n",
        "    \n",
        "  def fit(self, X_train, y_train):\n",
        "    \"\"\"\n",
        "    # It will create the decision tree based on train data\n",
        "\n",
        "    Parameters\n",
        "    ----------\n",
        "    X_train : array of shape (n_samples, n_features)\n",
        "\n",
        "    Y_train : array of shape (n_samples)\n",
        "\n",
        "    Returns\n",
        "    -------\n",
        "    self : object\n",
        "    \"\"\"\n",
        "    self.tree = self._build_tree(X_train, y_train)\n",
        "    return self\n",
        "\n",
        "  def predict(self, X_test):\n",
        "    \"\"\"\n",
        "    It will predict the output for the test data.\n",
        "\n",
        "    Parameters\n",
        "    ----------\n",
        "    X_test : array of shape (n_samples, n_features)\n",
        "\n",
        "    Returns\n",
        "    -------\n",
        "    predictions : array of shape (n_samples,)\n",
        "    \"\"\"\n",
        "    predictions = []\n",
        "    # loop over each test data\n",
        "    for x in X_test:\n",
        "      predicted = self._predict_output(self.tree, x)\n",
        "      predictions.append(predicted)\n",
        "    return np.array(predictions)\n",
        "\n",
        "  def _predict_output(self, node, x):\n",
        "    \"\"\"recursively find the leaf node to predict the output\"\"\"\n",
        "    if x[node['feature_index']] <= node['feature_threshold']:\n",
        "      if isinstance(node['left'], dict):\n",
        "        return self._predict_output(node['left'], x)\n",
        "      else:\n",
        "        return node['left']\n",
        "    else:\n",
        "      if isinstance(node['right'], dict):\n",
        "        return self._predict_output(node['right'], x)\n",
        "      else:\n",
        "        return node['right']"
      ],
      "execution_count": null,
      "outputs": []
    },
    {
      "cell_type": "markdown",
      "metadata": {
        "id": "1oAm_tS83yyx"
      },
      "source": [
        "## Validation of the custom implementation"
      ]
    },
    {
      "cell_type": "code",
      "metadata": {
        "id": "ewNKDVVkLCa9"
      },
      "source": [
        "from sklearn.datasets import load_boston\n",
        "from sklearn.model_selection import train_test_split\n",
        "\n",
        "iris = load_boston()\n",
        "X_train, X_test, y_train, y_test = train_test_split(iris.data, iris.target, train_size=.8)"
      ],
      "execution_count": null,
      "outputs": []
    },
    {
      "cell_type": "code",
      "metadata": {
        "colab": {
          "base_uri": "https://localhost:8080/"
        },
        "id": "JZgscfQ-WN3M",
        "outputId": "534aefcb-d1f0-4576-b1f1-70797edc77fd"
      },
      "source": [
        "model = DecisionTreeRegressor()\n",
        "model.fit(X_train, y_train)"
      ],
      "execution_count": null,
      "outputs": [
        {
          "output_type": "execute_result",
          "data": {
            "text/plain": [
              "<__main__.DecisionTreeRegressor at 0x7f882d55c9d0>"
            ]
          },
          "metadata": {
            "tags": []
          },
          "execution_count": 124
        }
      ]
    },
    {
      "cell_type": "code",
      "metadata": {
        "id": "lz-FV_XkWg60"
      },
      "source": [
        "y_pred = model.predict(X_test)"
      ],
      "execution_count": null,
      "outputs": []
    },
    {
      "cell_type": "code",
      "metadata": {
        "id": "6zvKlC171VeJ"
      },
      "source": [
        "from sklearn.metrics import r2_score\n",
        "import seaborn as sns"
      ],
      "execution_count": null,
      "outputs": []
    },
    {
      "cell_type": "code",
      "metadata": {
        "colab": {
          "base_uri": "https://localhost:8080/"
        },
        "id": "4JqDQYfB11HI",
        "outputId": "c5baafde-084f-424d-c003-1d6043537973"
      },
      "source": [
        "r2_score(y_test, y_pred)"
      ],
      "execution_count": null,
      "outputs": [
        {
          "output_type": "execute_result",
          "data": {
            "text/plain": [
              "0.8272996525086693"
            ]
          },
          "metadata": {
            "tags": []
          },
          "execution_count": 127
        }
      ]
    },
    {
      "cell_type": "markdown",
      "metadata": {
        "id": "ozQ7tP1i4GkT"
      },
      "source": [
        "**R2 score is close to 1.**"
      ]
    },
    {
      "cell_type": "code",
      "metadata": {
        "id": "_WwXbvzCvvqT",
        "colab": {
          "base_uri": "https://localhost:8080/",
          "height": 282
        },
        "outputId": "4f899932-9246-498c-e179-9877038c589d"
      },
      "source": [
        "sns.kdeplot(y_test - y_pred)"
      ],
      "execution_count": null,
      "outputs": [
        {
          "output_type": "execute_result",
          "data": {
            "text/plain": [
              "<matplotlib.axes._subplots.AxesSubplot at 0x7f882d49f0d0>"
            ]
          },
          "metadata": {
            "tags": []
          },
          "execution_count": 128
        },
        {
          "output_type": "display_data",
          "data": {
            "image/png": "[encoded data removed]",
            "text/plain": [
              "<Figure size 432x288 with 1 Axes>"
            ]
          },
          "metadata": {
            "tags": [],
            "needs_background": "light"
          }
        }
      ]
    },
    {
      "cell_type": "markdown",
      "metadata": {
        "id": "Z8onCJFqzC10"
      },
      "source": [
        "**Errors are gaussian distributed.**"
      ]
    },
    {
      "cell_type": "code",
      "metadata": {
        "colab": {
          "base_uri": "https://localhost:8080/"
        },
        "id": "n3OHooULzLVj",
        "outputId": "9e857309-740c-480c-f770-a98602abfc03"
      },
      "source": [
        "from sklearn.tree import DecisionTreeRegressor\n",
        "model = DecisionTreeRegressor()\n",
        "model.fit(X_train, y_train)\n",
        "y_pred = model.predict(X_test)\n",
        "r2_score(y_test, y_pred)"
      ],
      "execution_count": null,
      "outputs": [
        {
          "output_type": "execute_result",
          "data": {
            "text/plain": [
              "0.8291243009057929"
            ]
          },
          "metadata": {
            "tags": []
          },
          "execution_count": 129
        }
      ]
    },
    {
      "cell_type": "markdown",
      "metadata": {
        "id": "XNG-vIDuzbQK"
      },
      "source": [
        "### **R2 is comparable to what we get from sklearn's implementation.**"
      ]
    }
  ]
}