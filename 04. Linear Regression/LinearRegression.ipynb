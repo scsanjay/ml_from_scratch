{
  "nbformat": 4,
  "nbformat_minor": 0,
  "metadata": {
    "colab": {
      "name": "LinearRegression.ipynb",
      "provenance": [],
      "collapsed_sections": [],
      "include_colab_link": true
    },
    "kernelspec": {
      "name": "python3",
      "display_name": "Python 3"
    },
    "language_info": {
      "name": "python"
    }
  },
  "cells": [
    {
      "cell_type": "markdown",
      "metadata": {
        "id": "view-in-github",
        "colab_type": "text"
      },
      "source": [
        "<a href=\"https://colab.research.google.com/github/scsanjay/ml_from_scratch/blob/main/04.%20Linear%20Regression/LinearRegression.ipynb\" target=\"_parent\"><img src=\"https://colab.research.google.com/assets/colab-badge.svg\" alt=\"Open In Colab\"/></a>"
      ]
    },
    {
      "cell_type": "code",
      "metadata": {
        "id": "41LvMtyCybtp"
      },
      "source": [
        "import numpy as np\n",
        "import matplotlib.pyplot as plt\n",
        "from sklearn.model_selection import train_test_split\n",
        "from sklearn.metrics import r2_score\n",
        "import seaborn as sns"
      ],
      "execution_count": 8,
      "outputs": []
    },
    {
      "cell_type": "markdown",
      "metadata": {
        "id": "bgiVaURPUEbu"
      },
      "source": [
        "## Custom implementation of Linear Regression"
      ]
    },
    {
      "cell_type": "markdown",
      "metadata": {
        "id": "otMABe1j1J18"
      },
      "source": [
        "**Gradient calculations [https://i.imgur.com/WEe3Q8H.jpeg](https://i.imgur.com/WEe3Q8H.jpeg)**"
      ]
    },
    {
      "cell_type": "code",
      "metadata": {
        "id": "87zkGjXjDCtZ"
      },
      "source": [
        "class LinearRegression():\n",
        "  \"\"\"\n",
        "  SGD implementation of Linear Regression\n",
        "\n",
        "  Parameters\n",
        "  ----------\n",
        "  penalty : {'l1', 'l2'}, default l2\n",
        "\n",
        "  alpha : float, default = 0.0001\n",
        "    multiplier for the regularisation term\n",
        "  \n",
        "  eta0 : float, default = 0.001\n",
        "    initial learning rate\n",
        "\n",
        "  epoch : int, default = 1000\n",
        "\n",
        "  Attributes\n",
        "  ----------\n",
        "  weights : array of size n_features\n",
        "\n",
        "  bias : float\n",
        "  \"\"\"\n",
        "\n",
        "  def __init__ (self, penalty='l2', alpha=0.0001, eta0=0.001, epoch=1000):\n",
        "    self.penalty = penalty\n",
        "    self.alpha = alpha\n",
        "    self.eta0 = eta0\n",
        "    self.epoch = epoch\n",
        "\n",
        "  def fit(self, X_train, y_train):\n",
        "    \"\"\"\n",
        "    It will find a hyperplane that best separate the data.\n",
        "\n",
        "    Parameters\n",
        "    ----------\n",
        "    X_train : array of shape (n_samples, n_features)\n",
        "\n",
        "    Y_train : array of shape (n_samples)\n",
        "\n",
        "    Returns\n",
        "    -------\n",
        "    self : object\n",
        "    \"\"\"\n",
        "\n",
        "    # initialize weights and bias\n",
        "    w = np.random.normal(size=len(X_train[0]))\n",
        "    b = 0\n",
        "\n",
        "    n = len(y_train)\n",
        "\n",
        "    # epoch iterations\n",
        "    for j in range(self.epoch):\n",
        "      \n",
        "      # loop over all training data\n",
        "      for i in range(n):\n",
        "        x = X_train[i]\n",
        "        y = y_train[i]\n",
        "\n",
        "        # weight gradient\n",
        "        dw = -x * 2 * (y - (np.dot(w,x)+b))\n",
        "        \n",
        "        # regularization term based on penalty\n",
        "        if (self.penalty=='l1'):\n",
        "          # L1 regulariser\n",
        "          dw += self.alpha*(w/np.dot(w, w))\n",
        "        else:\n",
        "          # L2 regulariser\n",
        "          dw += 2*self.alpha*w\n",
        "\n",
        "        # bias gradient\n",
        "        db = -2 * (y - (np.dot(w,x)+b))\n",
        "\n",
        "        # update weights and bias based on gradient and learning rate\n",
        "        w = w-self.eta0*dw\n",
        "        b = b-self.eta0*db\n",
        "    \n",
        "    # set weights and bias attributes\n",
        "    self.weights = w\n",
        "    self.bias = b\n",
        "    return self\n",
        "\n",
        "  def predict (self, X_test):\n",
        "    \"\"\"\n",
        "    It will predict the output classes for the test data.\n",
        "\n",
        "    Parameters\n",
        "    ----------\n",
        "    X_test : array of shape (n_samples, n_features)\n",
        "\n",
        "    Returns\n",
        "    -------\n",
        "    predicted : array of shape (n_samples,)\n",
        "    \"\"\"\n",
        "    # calculate predictions\n",
        "    predictions = np.dot(self.weights, X_test.T)+self.bias\n",
        "\n",
        "    return predictions "
      ],
      "execution_count": 2,
      "outputs": []
    },
    {
      "cell_type": "markdown",
      "metadata": {
        "id": "cYf-nHtCUWHq"
      },
      "source": [
        "## Checking validity of the custom implementation"
      ]
    },
    {
      "cell_type": "code",
      "metadata": {
        "id": "x9KAF6WVB1yB"
      },
      "source": [
        "from sklearn.datasets import load_boston\n",
        "from sklearn.model_selection import train_test_split\n",
        "from sklearn.preprocessing import StandardScaler\n",
        "\n",
        "iris = load_boston()\n",
        "X_train, X_test, y_train, y_test = train_test_split(iris.data, iris.target, train_size=.8)\n",
        "\n",
        "stnd = StandardScaler()\n",
        "stnd.fit(X_train)\n",
        "X_train = stnd.transform(X_train)\n",
        "X_test = stnd.transform(X_test)"
      ],
      "execution_count": 46,
      "outputs": []
    },
    {
      "cell_type": "markdown",
      "metadata": {
        "id": "mAghiZZp06Oc"
      },
      "source": [
        "### With L2 Regularisation"
      ]
    },
    {
      "cell_type": "code",
      "metadata": {
        "id": "oDBhVxJNCBZ3"
      },
      "source": [
        "model = LinearRegression(alpha=0.0001, eta0=0.001, epoch = 1500)\n",
        "model.fit(X_train, y_train)\n",
        "y_pred = model.predict(X_test)"
      ],
      "execution_count": 61,
      "outputs": []
    },
    {
      "cell_type": "code",
      "metadata": {
        "id": "ayVXz2xLzG1D",
        "colab": {
          "base_uri": "https://localhost:8080/"
        },
        "outputId": "793faabc-adba-4db4-e27c-61394155b98e"
      },
      "source": [
        "r2_score(y_test, y_pred)"
      ],
      "execution_count": 62,
      "outputs": [
        {
          "output_type": "execute_result",
          "data": {
            "text/plain": [
              "0.773821654049763"
            ]
          },
          "metadata": {},
          "execution_count": 62
        }
      ]
    },
    {
      "cell_type": "code",
      "metadata": {
        "id": "vTMWonAnocoV",
        "colab": {
          "base_uri": "https://localhost:8080/",
          "height": 265
        },
        "outputId": "46368e1f-6af4-43dc-b338-28f43a478059"
      },
      "source": [
        "sns.kdeplot(y_test - y_pred)\n",
        "plt.show()"
      ],
      "execution_count": 63,
      "outputs": [
        {
          "output_type": "display_data",
          "data": {
            "image/png": "[encoded data removed]",
            "text/plain": [
              "<Figure size 432x288 with 1 Axes>"
            ]
          },
          "metadata": {
            "needs_background": "light"
          }
        }
      ]
    },
    {
      "cell_type": "markdown",
      "metadata": {
        "id": "Es0b172ebGwt"
      },
      "source": [
        "**R2 score is close to 1 so that's good. Distribution of errors is gaussian distributed with mean 0 so that's good too.**"
      ]
    },
    {
      "cell_type": "markdown",
      "metadata": {
        "id": "4_UuU0zQ0hFF"
      },
      "source": [
        "### With L1 Regularisation"
      ]
    },
    {
      "cell_type": "code",
      "metadata": {
        "id": "pAR99iqo0Z4V"
      },
      "source": [
        "model = LinearRegression(alpha=0.0001, eta0=0.001, epoch = 1500, penalty='l1')\n",
        "model.fit(X_train, y_train)\n",
        "y_pred = model.predict(X_test)"
      ],
      "execution_count": 64,
      "outputs": []
    },
    {
      "cell_type": "code",
      "metadata": {
        "id": "aM1-mCtH0gFB",
        "outputId": "1e12d23d-465f-4fe1-be67-1fb4a23fd213",
        "colab": {
          "base_uri": "https://localhost:8080/"
        }
      },
      "source": [
        "r2_score(y_test, y_pred)"
      ],
      "execution_count": 65,
      "outputs": [
        {
          "output_type": "execute_result",
          "data": {
            "text/plain": [
              "0.7737965283449321"
            ]
          },
          "metadata": {},
          "execution_count": 65
        }
      ]
    },
    {
      "cell_type": "code",
      "metadata": {
        "id": "DF-EUe670lAf",
        "outputId": "d2090b0f-3ef7-4af0-9bd4-72ca821ba0e3",
        "colab": {
          "base_uri": "https://localhost:8080/",
          "height": 265
        }
      },
      "source": [
        "sns.kdeplot(y_test - y_pred)\n",
        "plt.show()"
      ],
      "execution_count": 66,
      "outputs": [
        {
          "output_type": "display_data",
          "data": {
            "image/png": "[encoded data removed]",
            "text/plain": [
              "<Figure size 432x288 with 1 Axes>"
            ]
          },
          "metadata": {
            "needs_background": "light"
          }
        }
      ]
    },
    {
      "cell_type": "markdown",
      "metadata": {
        "id": "eh8al_jm08cK"
      },
      "source": [
        "It is very similar to what we got with l2 regulariser."
      ]
    }
  ]
}
