{
  "nbformat": 4,
  "nbformat_minor": 0,
  "metadata": {
    "colab": {
      "name": "LinearRegression.ipynb",
      "provenance": [],
      "collapsed_sections": [],
      "include_colab_link": true
    },
    "kernelspec": {
      "name": "python3",
      "display_name": "Python 3"
    },
    "language_info": {
      "name": "python"
    }
  },
  "cells": [
    {
      "cell_type": "markdown",
      "metadata": {
        "id": "view-in-github",
        "colab_type": "text"
      },
      "source": [
        "<a href=\"https://colab.research.google.com/github/scsanjay/ml_from_scratch/blob/main/04.%20Linear%20Regression/LinearRegression.ipynb\" target=\"_parent\"><img src=\"https://colab.research.google.com/assets/colab-badge.svg\" alt=\"Open In Colab\"/></a>"
      ]
    },
    {
      "cell_type": "code",
      "metadata": {
        "id": "41LvMtyCybtp"
      },
      "source": [
        "import numpy as np\n",
        "import matplotlib.pyplot as plt\n",
        "from sklearn.model_selection import train_test_split\n",
        "from sklearn.metrics import r2_score"
      ],
      "execution_count": null,
      "outputs": []
    },
    {
      "cell_type": "markdown",
      "metadata": {
        "id": "bgiVaURPUEbu"
      },
      "source": [
        "## Custom implementation of Linear Regression with l2 regulariser"
      ]
    },
    {
      "cell_type": "code",
      "metadata": {
        "id": "87zkGjXjDCtZ"
      },
      "source": [
        "# Very simple implementation of Linear Regression\n",
        "# TODO: Complex implementation like sklearn's\n",
        "\n",
        "class LinearRegression():\n",
        "  \"\"\"\n",
        "  It's a very simple implementation of Linear Regression.\n",
        "  And it is based on Gradient Descent algorithm to minimise the Squared Loss.\n",
        "\n",
        "  Parameters\n",
        "  ----------\n",
        "  iterations : int, default is 1000\n",
        "  \n",
        "  Attributes\n",
        "  ----------\n",
        "  weights : array of size n_features\n",
        "\n",
        "  bias : float\n",
        "  \"\"\"\n",
        "\n",
        "  def __init__ (self, iterations=100):\n",
        "    self.iterations = iterations\n",
        "\n",
        "  def fit (self, X_train, Y_train):\n",
        "    \"\"\"\n",
        "    It will fit a line to the given training data.\n",
        "\n",
        "    Parameters\n",
        "    ----------\n",
        "    X_train : array of shape (n_samples, n_features)\n",
        "\n",
        "    Y_train : array of shape (n_samples)\n",
        "\n",
        "    Returns\n",
        "    -------\n",
        "    self : object\n",
        "    \"\"\"\n",
        "\n",
        "    # total dimensions\n",
        "    feature_nums = 1\n",
        "\n",
        "    # initialisation of weights\n",
        "    W = np.random.normal(size=feature_nums)\n",
        "\n",
        "    # initialisation of bias\n",
        "    b = np.random.normal(size=1)\n",
        "    \n",
        "    for k in range(self.iterations):\n",
        "      # learning rate such that it reduces over each iterations\n",
        "      learningRate = 0.001 / ((k+1)**.5)\n",
        "\n",
        "      weight_gradients = np.zeros(feature_nums)\n",
        "      bias_gradient = 0\n",
        "\n",
        "      # implementation of gradient descent\n",
        "      for (x_i, y_i) in zip(X_train, Y_train):\n",
        "        x_i = np.array(x_i)\n",
        "\n",
        "        # calculate gradients with l2 regularisations\n",
        "        weight_gradients = np.add(weight_gradients, (-2 * x_i) * (y_i - np.dot(W, x_i) + b)) + 2*np.sum(W)\n",
        "        bias_gradient = bias_gradient + (-2 * (y_i - np.dot(W, x_i) + b))\n",
        "      \n",
        "      # update weights and bias based on gradients\n",
        "      W = W - (learningRate * weight_gradients / len(X_train))\n",
        "      b = b - (learningRate * bias_gradient / len(X_train))\n",
        "    \n",
        "    # set weight and bias attributes\n",
        "    self.weights = W\n",
        "    self.bias = b\n",
        "    return self\n",
        "\n",
        "  def predict (self, X_test):\n",
        "    \"\"\"\n",
        "    It will predict the output values for the test data.\n",
        "\n",
        "    Parameters\n",
        "    ----------\n",
        "    X_test : array of shape (n_samples, n_features)\n",
        "\n",
        "    Returns\n",
        "    -------\n",
        "    predicted : array of shape (n_samples,)\n",
        "    \"\"\"\n",
        "\n",
        "    predicted = np.empty(len(X_test))\n",
        "\n",
        "    # loop through each data in test\n",
        "    for (i, x_i) in enumerate(X_test):\n",
        "      x_i = np.array(x_i)\n",
        "\n",
        "      # to predict we calculate y=mx+c\n",
        "      predicted[i] = np.add(np.dot(self.weights, x_i), self.bias)\n",
        "\n",
        "    return predicted\n"
      ],
      "execution_count": null,
      "outputs": []
    },
    {
      "cell_type": "markdown",
      "metadata": {
        "id": "cYf-nHtCUWHq"
      },
      "source": [
        "## Checking validity of the custom implementation"
      ]
    },
    {
      "cell_type": "code",
      "metadata": {
        "id": "x9KAF6WVB1yB",
        "colab": {
          "base_uri": "https://localhost:8080/",
          "height": 265
        },
        "outputId": "83e5adf7-8181-4541-bbbb-f01c6ed0dd2f"
      },
      "source": [
        "# Let's create some simple data\n",
        "X = np.arange(0,100)+np.random.normal(loc=10, scale=3, size=100)\n",
        "Y = np.arange(0,100)\n",
        "plt.scatter(X,Y)\n",
        "plt.show()"
      ],
      "execution_count": null,
      "outputs": [
        {
          "output_type": "display_data",
          "data": {
            "image/png": "[encoded data removed]",
            "text/plain": [
              "<Figure size 432x288 with 1 Axes>"
            ]
          },
          "metadata": {
            "tags": [],
            "needs_background": "light"
          }
        }
      ]
    },
    {
      "cell_type": "code",
      "metadata": {
        "id": "oDBhVxJNCBZ3"
      },
      "source": [
        "X_train, X_test, Y_train, Y_test = train_test_split(X, Y, test_size = 0.2, random_state=42)"
      ],
      "execution_count": null,
      "outputs": []
    },
    {
      "cell_type": "code",
      "metadata": {
        "id": "5ZYN4LCp2g6g"
      },
      "source": [
        "model = LinearRegression()\n",
        "model.fit(X_train, Y_train)\n",
        "y_pred = model.predict(X_test)"
      ],
      "execution_count": null,
      "outputs": []
    },
    {
      "cell_type": "code",
      "metadata": {
        "id": "ayVXz2xLzG1D",
        "colab": {
          "base_uri": "https://localhost:8080/"
        },
        "outputId": "51aa3341-5ac4-4fa5-f88e-d190fadc0694"
      },
      "source": [
        "r2_score(Y_test, y_pred)"
      ],
      "execution_count": null,
      "outputs": [
        {
          "output_type": "execute_result",
          "data": {
            "text/plain": [
              "0.9519507265469294"
            ]
          },
          "metadata": {
            "tags": []
          },
          "execution_count": 121
        }
      ]
    },
    {
      "cell_type": "code",
      "metadata": {
        "id": "vTMWonAnocoV",
        "colab": {
          "base_uri": "https://localhost:8080/",
          "height": 281
        },
        "outputId": "631eeba1-0e98-4389-d0c2-fac13bcc6abd"
      },
      "source": [
        "plt.scatter(X_test, Y_test)\n",
        "plt.plot(X_test, y_pred, 'r')\n",
        "plt.title('Best fit line')\n",
        "plt.show()"
      ],
      "execution_count": null,
      "outputs": [
        {
          "output_type": "display_data",
          "data": {
            "image/png": "[encoded data removed]",
            "text/plain": [
              "<Figure size 432x288 with 1 Axes>"
            ]
          },
          "metadata": {
            "tags": [],
            "needs_background": "light"
          }
        }
      ]
    },
    {
      "cell_type": "markdown",
      "metadata": {
        "id": "Es0b172ebGwt"
      },
      "source": [
        "**So it seems to be working fine.**"
      ]
    }
  ]
}